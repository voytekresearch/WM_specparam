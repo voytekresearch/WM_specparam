{
 "cells": [
  {
   "cell_type": "markdown",
   "metadata": {},
   "source": [
    "In this notebook, we add an analysis that looks at the difference in relative theta power (not baselined) between experiment 1 and 2 too see whether theta is different between a constant or variable set size"
   ]
  },
  {
   "cell_type": "code",
   "execution_count": 1,
   "metadata": {},
   "outputs": [
    {
     "name": "stderr",
     "output_type": "stream",
     "text": [
      "/Users/quirine/opt/anaconda3/envs/py3/lib/python3.7/site-packages/outdated/utils.py:18: OutdatedPackageWarning: The package outdated is out of date. Your version is 0.2.1, the latest is 0.2.2.\n",
      "Set the environment variable OUTDATED_IGNORE=1 to disable these warnings.\n",
      "  **kwargs\n",
      "/Users/quirine/opt/anaconda3/envs/py3/lib/python3.7/site-packages/outdated/utils.py:18: OutdatedPackageWarning: The package pingouin is out of date. Your version is 0.5.2, the latest is 0.5.5.\n",
      "Set the environment variable OUTDATED_IGNORE=1 to disable these warnings.\n",
      "  **kwargs\n"
     ]
    }
   ],
   "source": [
    "%matplotlib inline\n",
    "# import os\n",
    "\n",
    "import numpy as np\n",
    "import pandas as pd\n",
    "# import scipy as sp\n",
    "# from scipy import stats\n",
    "# from scipy.stats import wilcoxon\n",
    "import pingouin as pg\n",
    "# import pickle as pkl\n",
    "\n",
    "from sklearn.linear_model import LinearRegression\n",
    "\n",
    "# from colourfulbirds import exp1_functionsforanalysis as dp\n",
    "# from colourfulbirds import exp1_functionsforplotting as dp_plot\n",
    "from colourfulbirds.exp1_settings import SUB_THETA\n",
    "\n",
    "import matplotlib.pyplot as plt\n",
    "import seaborn as sns\n",
    "sns.set_context(\"talk\")"
   ]
  },
  {
   "cell_type": "code",
   "execution_count": 2,
   "metadata": {},
   "outputs": [],
   "source": [
    "def plotting_function(parameter, data, period, freq='THETA', zero=False, save_fig=False):\n",
    "\n",
    "    ax = sns.violinplot(x='experiment', y=parameter, data=data, dodge=True, inner=None, palette={'exp1': '#a6cee3', 'exp2': '#b2df8a'}) # , palette=alpha_col\n",
    "    ax = sns.swarmplot(x='experiment', y=parameter, data=data, dodge=True, color='black')\n",
    "\n",
    "    # Add mean lines\n",
    "    sns.boxplot(showmeans=True,\n",
    "        meanline=True,\n",
    "        meanprops={'color': 'k', 'ls': '-', 'lw': 3},\n",
    "        medianprops={'visible': False},\n",
    "        whiskerprops={'visible': False},\n",
    "        zorder=10,\n",
    "        x='experiment',\n",
    "        y=parameter,\n",
    "        # hue='lateralization',\n",
    "        data=data,\n",
    "        showfliers=False,\n",
    "        showbox=False,\n",
    "        showcaps=False,\n",
    "        ax=ax)\n",
    "    \n",
    "    if zero:\n",
    "        ax.axhline(y = 0, color = 'k', ls = '--', lw=2)\n",
    "\n",
    "    if parameter == 'power':\n",
    "        if freq == 'THETA':\n",
    "            plt.ylabel('θ oscillation power ($\\mu$V$^2$)')\n",
    "        else:\n",
    "            plt.ylabel('α oscillation power ($\\mu$V$^2$)')\n",
    "    elif parameter == 'exponent':\n",
    "        plt.ylabel('exponent ($\\mu$V$^2$/Hz)')\n",
    "    plt.title(period)\n",
    "\n",
    "    plt.show()\n",
    "\n",
    "    if save_fig:\n",
    "        # create correct filename and path according to parameter\n",
    "        path = '../figures/combined_figures/'\n",
    "        filename = 'figx_exp1_vs2_theta_' + parameter + '_' + period +'.pdf'\n",
    "        plt.savefig(path + filename, format='pdf', bbox_inches='tight' )"
   ]
  },
  {
   "cell_type": "code",
   "execution_count": 3,
   "metadata": {},
   "outputs": [
    {
     "data": {
      "text/html": [
       "<div>\n",
       "<style scoped>\n",
       "    .dataframe tbody tr th:only-of-type {\n",
       "        vertical-align: middle;\n",
       "    }\n",
       "\n",
       "    .dataframe tbody tr th {\n",
       "        vertical-align: top;\n",
       "    }\n",
       "\n",
       "    .dataframe thead th {\n",
       "        text-align: right;\n",
       "    }\n",
       "</style>\n",
       "<table border=\"1\" class=\"dataframe\">\n",
       "  <thead>\n",
       "    <tr style=\"text-align: right;\">\n",
       "      <th></th>\n",
       "      <th>bas_ret_diff</th>\n",
       "      <th>sub_id</th>\n",
       "      <th>trial_n</th>\n",
       "      <th>set_size</th>\n",
       "      <th>exponent</th>\n",
       "      <th>offset</th>\n",
       "      <th>power</th>\n",
       "      <th>cf</th>\n",
       "      <th>peak_perc</th>\n",
       "      <th>bandpower</th>\n",
       "      <th>auc</th>\n",
       "      <th>auc_log_osc</th>\n",
       "      <th>auc_lin_osc</th>\n",
       "      <th>r2s</th>\n",
       "      <th>wm_capacity</th>\n",
       "      <th>osc_presence</th>\n",
       "    </tr>\n",
       "  </thead>\n",
       "  <tbody>\n",
       "    <tr>\n",
       "      <th>0</th>\n",
       "      <td>bas</td>\n",
       "      <td>1.0</td>\n",
       "      <td>87.944444</td>\n",
       "      <td>1.0</td>\n",
       "      <td>1.637519</td>\n",
       "      <td>1.330820</td>\n",
       "      <td>0.219167</td>\n",
       "      <td>6.006726</td>\n",
       "      <td>78.531073</td>\n",
       "      <td>6.634227</td>\n",
       "      <td>13.362341</td>\n",
       "      <td>0.749284</td>\n",
       "      <td>9.058516</td>\n",
       "      <td>0.841722</td>\n",
       "      <td>1.903654</td>\n",
       "      <td>1.0</td>\n",
       "    </tr>\n",
       "    <tr>\n",
       "      <th>1</th>\n",
       "      <td>diff</td>\n",
       "      <td>1.0</td>\n",
       "      <td>87.944444</td>\n",
       "      <td>1.0</td>\n",
       "      <td>-0.058994</td>\n",
       "      <td>-0.117494</td>\n",
       "      <td>0.056197</td>\n",
       "      <td>0.075229</td>\n",
       "      <td>-4.519774</td>\n",
       "      <td>0.143127</td>\n",
       "      <td>0.753848</td>\n",
       "      <td>0.082482</td>\n",
       "      <td>1.347218</td>\n",
       "      <td>NaN</td>\n",
       "      <td>1.903654</td>\n",
       "      <td>1.0</td>\n",
       "    </tr>\n",
       "    <tr>\n",
       "      <th>2</th>\n",
       "      <td>ret</td>\n",
       "      <td>1.0</td>\n",
       "      <td>87.944444</td>\n",
       "      <td>1.0</td>\n",
       "      <td>1.578525</td>\n",
       "      <td>1.213326</td>\n",
       "      <td>0.275364</td>\n",
       "      <td>5.841791</td>\n",
       "      <td>74.011299</td>\n",
       "      <td>6.777354</td>\n",
       "      <td>14.116189</td>\n",
       "      <td>0.831766</td>\n",
       "      <td>10.405734</td>\n",
       "      <td>0.819137</td>\n",
       "      <td>1.903654</td>\n",
       "      <td>1.0</td>\n",
       "    </tr>\n",
       "    <tr>\n",
       "      <th>3</th>\n",
       "      <td>bas</td>\n",
       "      <td>1.0</td>\n",
       "      <td>87.931677</td>\n",
       "      <td>3.0</td>\n",
       "      <td>1.592106</td>\n",
       "      <td>1.245588</td>\n",
       "      <td>0.309697</td>\n",
       "      <td>6.080077</td>\n",
       "      <td>73.563218</td>\n",
       "      <td>7.389789</td>\n",
       "      <td>15.432363</td>\n",
       "      <td>0.854914</td>\n",
       "      <td>11.313300</td>\n",
       "      <td>0.829066</td>\n",
       "      <td>1.903654</td>\n",
       "      <td>1.0</td>\n",
       "    </tr>\n",
       "    <tr>\n",
       "      <th>4</th>\n",
       "      <td>diff</td>\n",
       "      <td>1.0</td>\n",
       "      <td>87.931677</td>\n",
       "      <td>3.0</td>\n",
       "      <td>0.065295</td>\n",
       "      <td>0.028273</td>\n",
       "      <td>-0.019226</td>\n",
       "      <td>-0.214985</td>\n",
       "      <td>0.574713</td>\n",
       "      <td>-0.597461</td>\n",
       "      <td>-1.263486</td>\n",
       "      <td>-0.059916</td>\n",
       "      <td>-1.068501</td>\n",
       "      <td>NaN</td>\n",
       "      <td>1.903654</td>\n",
       "      <td>1.0</td>\n",
       "    </tr>\n",
       "  </tbody>\n",
       "</table>\n",
       "</div>"
      ],
      "text/plain": [
       "  bas_ret_diff  sub_id    trial_n  set_size  exponent    offset     power  \\\n",
       "0          bas     1.0  87.944444       1.0  1.637519  1.330820  0.219167   \n",
       "1         diff     1.0  87.944444       1.0 -0.058994 -0.117494  0.056197   \n",
       "2          ret     1.0  87.944444       1.0  1.578525  1.213326  0.275364   \n",
       "3          bas     1.0  87.931677       3.0  1.592106  1.245588  0.309697   \n",
       "4         diff     1.0  87.931677       3.0  0.065295  0.028273 -0.019226   \n",
       "\n",
       "         cf  peak_perc  bandpower        auc  auc_log_osc  auc_lin_osc  \\\n",
       "0  6.006726  78.531073   6.634227  13.362341     0.749284     9.058516   \n",
       "1  0.075229  -4.519774   0.143127   0.753848     0.082482     1.347218   \n",
       "2  5.841791  74.011299   6.777354  14.116189     0.831766    10.405734   \n",
       "3  6.080077  73.563218   7.389789  15.432363     0.854914    11.313300   \n",
       "4 -0.214985   0.574713  -0.597461  -1.263486    -0.059916    -1.068501   \n",
       "\n",
       "        r2s  wm_capacity  osc_presence  \n",
       "0  0.841722     1.903654           1.0  \n",
       "1       NaN     1.903654           1.0  \n",
       "2  0.819137     1.903654           1.0  \n",
       "3  0.829066     1.903654           1.0  \n",
       "4       NaN     1.903654           1.0  "
      ]
     },
     "execution_count": 3,
     "metadata": {},
     "output_type": "execute_result"
    }
   ],
   "source": [
    "df_theta_exp1 = pd.read_csv('../saved_files/combined_exps/exp1_theta', index_col=0)\n",
    "df_theta_exp2 = pd.read_csv('../saved_files/combined_exps/exp2_theta', index_col=0)\n",
    "\n",
    "df_alpha_exp1 = pd.read_csv('../saved_files/combined_exps/exp1_alpha', index_col=0)\n",
    "df_alpha_exp2 = pd.read_csv('../saved_files/combined_exps/exp2_alpha', index_col=0)\n",
    "\n",
    "df_theta_exp1.head()"
   ]
  },
  {
   "cell_type": "markdown",
   "metadata": {},
   "source": [
    "# THETA"
   ]
  },
  {
   "cell_type": "code",
   "execution_count": 4,
   "metadata": {},
   "outputs": [
    {
     "data": {
      "text/html": [
       "<div>\n",
       "<style scoped>\n",
       "    .dataframe tbody tr th:only-of-type {\n",
       "        vertical-align: middle;\n",
       "    }\n",
       "\n",
       "    .dataframe tbody tr th {\n",
       "        vertical-align: top;\n",
       "    }\n",
       "\n",
       "    .dataframe thead th {\n",
       "        text-align: right;\n",
       "    }\n",
       "</style>\n",
       "<table border=\"1\" class=\"dataframe\">\n",
       "  <thead>\n",
       "    <tr style=\"text-align: right;\">\n",
       "      <th></th>\n",
       "      <th>bas_ret_diff</th>\n",
       "      <th>sub_id</th>\n",
       "      <th>exponent</th>\n",
       "      <th>offset</th>\n",
       "      <th>power</th>\n",
       "      <th>bandpower</th>\n",
       "      <th>experiment</th>\n",
       "    </tr>\n",
       "  </thead>\n",
       "  <tbody>\n",
       "    <tr>\n",
       "      <th>0</th>\n",
       "      <td>bas</td>\n",
       "      <td>1.0</td>\n",
       "      <td>1.611323</td>\n",
       "      <td>1.282705</td>\n",
       "      <td>0.255965</td>\n",
       "      <td>6.922632</td>\n",
       "      <td>exp1</td>\n",
       "    </tr>\n",
       "    <tr>\n",
       "      <th>1</th>\n",
       "      <td>bas</td>\n",
       "      <td>5.0</td>\n",
       "      <td>1.219906</td>\n",
       "      <td>1.205780</td>\n",
       "      <td>0.368243</td>\n",
       "      <td>8.775462</td>\n",
       "      <td>exp1</td>\n",
       "    </tr>\n",
       "    <tr>\n",
       "      <th>2</th>\n",
       "      <td>bas</td>\n",
       "      <td>7.0</td>\n",
       "      <td>1.579350</td>\n",
       "      <td>1.451848</td>\n",
       "      <td>0.392127</td>\n",
       "      <td>11.090371</td>\n",
       "      <td>exp1</td>\n",
       "    </tr>\n",
       "    <tr>\n",
       "      <th>3</th>\n",
       "      <td>bas</td>\n",
       "      <td>10.0</td>\n",
       "      <td>1.481319</td>\n",
       "      <td>1.169225</td>\n",
       "      <td>0.303204</td>\n",
       "      <td>4.353459</td>\n",
       "      <td>exp1</td>\n",
       "    </tr>\n",
       "    <tr>\n",
       "      <th>4</th>\n",
       "      <td>bas</td>\n",
       "      <td>11.0</td>\n",
       "      <td>1.363551</td>\n",
       "      <td>1.387673</td>\n",
       "      <td>0.312389</td>\n",
       "      <td>10.331113</td>\n",
       "      <td>exp1</td>\n",
       "    </tr>\n",
       "    <tr>\n",
       "      <th>...</th>\n",
       "      <td>...</td>\n",
       "      <td>...</td>\n",
       "      <td>...</td>\n",
       "      <td>...</td>\n",
       "      <td>...</td>\n",
       "      <td>...</td>\n",
       "      <td>...</td>\n",
       "    </tr>\n",
       "    <tr>\n",
       "      <th>46</th>\n",
       "      <td>ret</td>\n",
       "      <td>38.0</td>\n",
       "      <td>1.152343</td>\n",
       "      <td>0.831383</td>\n",
       "      <td>0.259061</td>\n",
       "      <td>3.319627</td>\n",
       "      <td>exp2</td>\n",
       "    </tr>\n",
       "    <tr>\n",
       "      <th>47</th>\n",
       "      <td>ret</td>\n",
       "      <td>39.0</td>\n",
       "      <td>1.274337</td>\n",
       "      <td>1.351795</td>\n",
       "      <td>0.220408</td>\n",
       "      <td>8.099604</td>\n",
       "      <td>exp2</td>\n",
       "    </tr>\n",
       "    <tr>\n",
       "      <th>48</th>\n",
       "      <td>ret</td>\n",
       "      <td>40.0</td>\n",
       "      <td>1.108847</td>\n",
       "      <td>0.920630</td>\n",
       "      <td>0.391485</td>\n",
       "      <td>6.159132</td>\n",
       "      <td>exp2</td>\n",
       "    </tr>\n",
       "    <tr>\n",
       "      <th>49</th>\n",
       "      <td>ret</td>\n",
       "      <td>41.0</td>\n",
       "      <td>1.544886</td>\n",
       "      <td>1.286262</td>\n",
       "      <td>0.426605</td>\n",
       "      <td>7.669479</td>\n",
       "      <td>exp2</td>\n",
       "    </tr>\n",
       "    <tr>\n",
       "      <th>50</th>\n",
       "      <td>ret</td>\n",
       "      <td>47.0</td>\n",
       "      <td>1.392720</td>\n",
       "      <td>1.143282</td>\n",
       "      <td>0.247065</td>\n",
       "      <td>3.914924</td>\n",
       "      <td>exp2</td>\n",
       "    </tr>\n",
       "  </tbody>\n",
       "</table>\n",
       "<p>81 rows × 7 columns</p>\n",
       "</div>"
      ],
      "text/plain": [
       "   bas_ret_diff  sub_id  exponent    offset     power  bandpower experiment\n",
       "0           bas     1.0  1.611323  1.282705  0.255965   6.922632       exp1\n",
       "1           bas     5.0  1.219906  1.205780  0.368243   8.775462       exp1\n",
       "2           bas     7.0  1.579350  1.451848  0.392127  11.090371       exp1\n",
       "3           bas    10.0  1.481319  1.169225  0.303204   4.353459       exp1\n",
       "4           bas    11.0  1.363551  1.387673  0.312389  10.331113       exp1\n",
       "..          ...     ...       ...       ...       ...        ...        ...\n",
       "46          ret    38.0  1.152343  0.831383  0.259061   3.319627       exp2\n",
       "47          ret    39.0  1.274337  1.351795  0.220408   8.099604       exp2\n",
       "48          ret    40.0  1.108847  0.920630  0.391485   6.159132       exp2\n",
       "49          ret    41.0  1.544886  1.286262  0.426605   7.669479       exp2\n",
       "50          ret    47.0  1.392720  1.143282  0.247065   3.914924       exp2\n",
       "\n",
       "[81 rows x 7 columns]"
      ]
     },
     "execution_count": 4,
     "metadata": {},
     "output_type": "execute_result"
    }
   ],
   "source": [
    "keep_cols = ['exponent', 'offset', \n",
    "    'power', 'bandpower']\n",
    "\n",
    "df_theta_exp1_avg = df_theta_exp1.groupby(['bas_ret_diff', 'sub_id'], as_index=False)[keep_cols].mean()\n",
    "df_theta_exp2_avg = df_theta_exp2.groupby(['bas_ret_diff', 'sub_id'], as_index=False)[keep_cols].mean()\n",
    "\n",
    "# Add a column indicating the experiment the dataframe is from\n",
    "df_theta_exp1_avg['experiment'] = 'exp1'\n",
    "df_theta_exp2_avg['experiment'] = 'exp2'\n",
    "df_theta_exp1.head()\n",
    "\n",
    "df_theta = pd.concat([df_theta_exp1_avg, df_theta_exp2_avg])\n",
    "df_theta"
   ]
  },
  {
   "cell_type": "code",
   "execution_count": 5,
   "metadata": {},
   "outputs": [
    {
     "data": {
      "text/html": [
       "<div>\n",
       "<style scoped>\n",
       "    .dataframe tbody tr th:only-of-type {\n",
       "        vertical-align: middle;\n",
       "    }\n",
       "\n",
       "    .dataframe tbody tr th {\n",
       "        vertical-align: top;\n",
       "    }\n",
       "\n",
       "    .dataframe thead th {\n",
       "        text-align: right;\n",
       "    }\n",
       "</style>\n",
       "<table border=\"1\" class=\"dataframe\">\n",
       "  <thead>\n",
       "    <tr style=\"text-align: right;\">\n",
       "      <th></th>\n",
       "      <th></th>\n",
       "      <th>count</th>\n",
       "      <th>mean</th>\n",
       "      <th>std</th>\n",
       "      <th>min</th>\n",
       "      <th>25%</th>\n",
       "      <th>50%</th>\n",
       "      <th>75%</th>\n",
       "      <th>max</th>\n",
       "    </tr>\n",
       "    <tr>\n",
       "      <th>bas_ret_diff</th>\n",
       "      <th>experiment</th>\n",
       "      <th></th>\n",
       "      <th></th>\n",
       "      <th></th>\n",
       "      <th></th>\n",
       "      <th></th>\n",
       "      <th></th>\n",
       "      <th></th>\n",
       "      <th></th>\n",
       "    </tr>\n",
       "  </thead>\n",
       "  <tbody>\n",
       "    <tr>\n",
       "      <th rowspan=\"2\" valign=\"top\">bas</th>\n",
       "      <th>exp1</th>\n",
       "      <td>10.0</td>\n",
       "      <td>0.355959</td>\n",
       "      <td>0.081501</td>\n",
       "      <td>0.226066</td>\n",
       "      <td>0.305500</td>\n",
       "      <td>0.373518</td>\n",
       "      <td>0.390723</td>\n",
       "      <td>0.476647</td>\n",
       "    </tr>\n",
       "    <tr>\n",
       "      <th>exp2</th>\n",
       "      <td>17.0</td>\n",
       "      <td>0.278019</td>\n",
       "      <td>0.065505</td>\n",
       "      <td>0.134128</td>\n",
       "      <td>0.238852</td>\n",
       "      <td>0.260524</td>\n",
       "      <td>0.322563</td>\n",
       "      <td>0.398990</td>\n",
       "    </tr>\n",
       "    <tr>\n",
       "      <th rowspan=\"2\" valign=\"top\">diff</th>\n",
       "      <th>exp1</th>\n",
       "      <td>10.0</td>\n",
       "      <td>0.057105</td>\n",
       "      <td>0.066378</td>\n",
       "      <td>-0.039496</td>\n",
       "      <td>0.008531</td>\n",
       "      <td>0.056038</td>\n",
       "      <td>0.092281</td>\n",
       "      <td>0.154834</td>\n",
       "    </tr>\n",
       "    <tr>\n",
       "      <th>exp2</th>\n",
       "      <td>17.0</td>\n",
       "      <td>0.024318</td>\n",
       "      <td>0.048984</td>\n",
       "      <td>-0.049191</td>\n",
       "      <td>-0.007505</td>\n",
       "      <td>0.004185</td>\n",
       "      <td>0.062582</td>\n",
       "      <td>0.124837</td>\n",
       "    </tr>\n",
       "    <tr>\n",
       "      <th rowspan=\"2\" valign=\"top\">ret</th>\n",
       "      <th>exp1</th>\n",
       "      <td>10.0</td>\n",
       "      <td>0.413064</td>\n",
       "      <td>0.125512</td>\n",
       "      <td>0.254255</td>\n",
       "      <td>0.317962</td>\n",
       "      <td>0.363833</td>\n",
       "      <td>0.521975</td>\n",
       "      <td>0.631481</td>\n",
       "    </tr>\n",
       "    <tr>\n",
       "      <th>exp2</th>\n",
       "      <td>17.0</td>\n",
       "      <td>0.302337</td>\n",
       "      <td>0.071370</td>\n",
       "      <td>0.124298</td>\n",
       "      <td>0.259061</td>\n",
       "      <td>0.312137</td>\n",
       "      <td>0.337018</td>\n",
       "      <td>0.426605</td>\n",
       "    </tr>\n",
       "  </tbody>\n",
       "</table>\n",
       "</div>"
      ],
      "text/plain": [
       "                         count      mean       std       min       25%  \\\n",
       "bas_ret_diff experiment                                                  \n",
       "bas          exp1         10.0  0.355959  0.081501  0.226066  0.305500   \n",
       "             exp2         17.0  0.278019  0.065505  0.134128  0.238852   \n",
       "diff         exp1         10.0  0.057105  0.066378 -0.039496  0.008531   \n",
       "             exp2         17.0  0.024318  0.048984 -0.049191 -0.007505   \n",
       "ret          exp1         10.0  0.413064  0.125512  0.254255  0.317962   \n",
       "             exp2         17.0  0.302337  0.071370  0.124298  0.259061   \n",
       "\n",
       "                              50%       75%       max  \n",
       "bas_ret_diff experiment                                \n",
       "bas          exp1        0.373518  0.390723  0.476647  \n",
       "             exp2        0.260524  0.322563  0.398990  \n",
       "diff         exp1        0.056038  0.092281  0.154834  \n",
       "             exp2        0.004185  0.062582  0.124837  \n",
       "ret          exp1        0.363833  0.521975  0.631481  \n",
       "             exp2        0.312137  0.337018  0.426605  "
      ]
     },
     "execution_count": 5,
     "metadata": {},
     "output_type": "execute_result"
    }
   ],
   "source": [
    "df_theta.groupby(['bas_ret_diff', 'experiment'])['power'].describe()"
   ]
  },
  {
   "cell_type": "markdown",
   "metadata": {},
   "source": [
    "### Retention period"
   ]
  },
  {
   "cell_type": "code",
   "execution_count": 6,
   "metadata": {},
   "outputs": [
    {
     "name": "stdout",
     "output_type": "stream",
     "text": [
      "         W      pval  normal\n",
      "0  0.91087  0.287021    True\n",
      "          W      pval  normal\n",
      "0  0.967923  0.781114    True\n",
      "               W      pval  equal_var\n",
      "levene  3.321784  0.080351       True\n"
     ]
    }
   ],
   "source": [
    "exp1 = df_theta.query('bas_ret_diff==\"ret\" & experiment==\"exp1\"')['power'].values\n",
    "exp2 = df_theta.query('bas_ret_diff==\"ret\" & experiment==\"exp2\"')['power'].values\n",
    "\n",
    "# Normality\n",
    "print(pg.normality(exp1))\n",
    "print(pg.normality(exp2))\n",
    "\n",
    "# Equal variance\n",
    "df_theta_ret = df_theta.query('bas_ret_diff==\"ret\"')\n",
    "print(pg.homoscedasticity(data=df_theta_ret, dv='power', group='experiment', method='levene'))"
   ]
  },
  {
   "cell_type": "code",
   "execution_count": 7,
   "metadata": {},
   "outputs": [
    {
     "data": {
      "text/html": [
       "<div>\n",
       "<style scoped>\n",
       "    .dataframe tbody tr th:only-of-type {\n",
       "        vertical-align: middle;\n",
       "    }\n",
       "\n",
       "    .dataframe tbody tr th {\n",
       "        vertical-align: top;\n",
       "    }\n",
       "\n",
       "    .dataframe thead th {\n",
       "        text-align: right;\n",
       "    }\n",
       "</style>\n",
       "<table border=\"1\" class=\"dataframe\">\n",
       "  <thead>\n",
       "    <tr style=\"text-align: right;\">\n",
       "      <th></th>\n",
       "      <th>T</th>\n",
       "      <th>dof</th>\n",
       "      <th>alternative</th>\n",
       "      <th>p-val</th>\n",
       "      <th>CI95%</th>\n",
       "      <th>cohen-d</th>\n",
       "      <th>BF10</th>\n",
       "      <th>power</th>\n",
       "    </tr>\n",
       "  </thead>\n",
       "  <tbody>\n",
       "    <tr>\n",
       "      <th>T-test</th>\n",
       "      <td>2.557155</td>\n",
       "      <td>12.494928</td>\n",
       "      <td>two-sided</td>\n",
       "      <td>0.024479</td>\n",
       "      <td>[0.02, 0.2]</td>\n",
       "      <td>1.171654</td>\n",
       "      <td>3.463</td>\n",
       "      <td>0.806604</td>\n",
       "    </tr>\n",
       "  </tbody>\n",
       "</table>\n",
       "</div>"
      ],
      "text/plain": [
       "               T        dof alternative     p-val        CI95%   cohen-d  \\\n",
       "T-test  2.557155  12.494928   two-sided  0.024479  [0.02, 0.2]  1.171654   \n",
       "\n",
       "         BF10     power  \n",
       "T-test  3.463  0.806604  "
      ]
     },
     "execution_count": 7,
     "metadata": {},
     "output_type": "execute_result"
    }
   ],
   "source": [
    "pg.ttest(exp1, exp2)"
   ]
  },
  {
   "cell_type": "markdown",
   "metadata": {},
   "source": [
    "### Baseline period"
   ]
  },
  {
   "cell_type": "code",
   "execution_count": 8,
   "metadata": {},
   "outputs": [
    {
     "name": "stdout",
     "output_type": "stream",
     "text": [
      "          W      pval  normal\n",
      "0  0.958292  0.766236    True\n",
      "          W     pval  normal\n",
      "0  0.981881  0.97225    True\n",
      "               W     pval  equal_var\n",
      "levene  0.376718  0.54491       True\n"
     ]
    }
   ],
   "source": [
    "exp1 = df_theta.query('bas_ret_diff==\"bas\" & experiment==\"exp1\"')['power'].values\n",
    "exp2 = df_theta.query('bas_ret_diff==\"bas\" & experiment==\"exp2\"')['power'].values\n",
    "\n",
    "# Normality\n",
    "print(pg.normality(exp1))\n",
    "print(pg.normality(exp2))\n",
    "\n",
    "# Equal variance\n",
    "df_theta_bas = df_theta.query('bas_ret_diff==\"bas\"')\n",
    "print(pg.homoscedasticity(data=df_theta_bas, dv='power', group='experiment', method='levene'))\n",
    "\n"
   ]
  },
  {
   "cell_type": "code",
   "execution_count": 9,
   "metadata": {},
   "outputs": [
    {
     "data": {
      "text/html": [
       "<div>\n",
       "<style scoped>\n",
       "    .dataframe tbody tr th:only-of-type {\n",
       "        vertical-align: middle;\n",
       "    }\n",
       "\n",
       "    .dataframe tbody tr th {\n",
       "        vertical-align: top;\n",
       "    }\n",
       "\n",
       "    .dataframe thead th {\n",
       "        text-align: right;\n",
       "    }\n",
       "</style>\n",
       "<table border=\"1\" class=\"dataframe\">\n",
       "  <thead>\n",
       "    <tr style=\"text-align: right;\">\n",
       "      <th></th>\n",
       "      <th>T</th>\n",
       "      <th>dof</th>\n",
       "      <th>alternative</th>\n",
       "      <th>p-val</th>\n",
       "      <th>CI95%</th>\n",
       "      <th>cohen-d</th>\n",
       "      <th>BF10</th>\n",
       "      <th>power</th>\n",
       "    </tr>\n",
       "  </thead>\n",
       "  <tbody>\n",
       "    <tr>\n",
       "      <th>T-test</th>\n",
       "      <td>2.574296</td>\n",
       "      <td>15.851733</td>\n",
       "      <td>two-sided</td>\n",
       "      <td>0.020485</td>\n",
       "      <td>[0.01, 0.14]</td>\n",
       "      <td>1.087395</td>\n",
       "      <td>3.561</td>\n",
       "      <td>0.746188</td>\n",
       "    </tr>\n",
       "  </tbody>\n",
       "</table>\n",
       "</div>"
      ],
      "text/plain": [
       "               T        dof alternative     p-val         CI95%   cohen-d  \\\n",
       "T-test  2.574296  15.851733   two-sided  0.020485  [0.01, 0.14]  1.087395   \n",
       "\n",
       "         BF10     power  \n",
       "T-test  3.561  0.746188  "
      ]
     },
     "execution_count": 9,
     "metadata": {},
     "output_type": "execute_result"
    }
   ],
   "source": [
    "pg.ttest(exp1, exp2)"
   ]
  },
  {
   "cell_type": "markdown",
   "metadata": {},
   "source": [
    "### Difference : retention - baseline"
   ]
  },
  {
   "cell_type": "code",
   "execution_count": 10,
   "metadata": {},
   "outputs": [
    {
     "name": "stdout",
     "output_type": "stream",
     "text": [
      "          W      pval  normal\n",
      "0  0.951763  0.689391    True\n",
      "          W      pval  normal\n",
      "0  0.938604  0.301999    True\n",
      "               W      pval  equal_var\n",
      "levene  0.674658  0.419197       True\n"
     ]
    }
   ],
   "source": [
    "exp1 = df_theta.query('bas_ret_diff==\"diff\" & experiment==\"exp1\"')['power'].values\n",
    "exp2 = df_theta.query('bas_ret_diff==\"diff\" & experiment==\"exp2\"')['power'].values\n",
    "\n",
    "# Normality\n",
    "print(pg.normality(exp1))\n",
    "print(pg.normality(exp2))\n",
    "\n",
    "# Equal variance\n",
    "df_theta_diff = df_theta.query('bas_ret_diff==\"diff\"')\n",
    "print(pg.homoscedasticity(data=df_theta_diff, dv='power', group='experiment', method='levene'))\n"
   ]
  },
  {
   "cell_type": "code",
   "execution_count": 11,
   "metadata": {},
   "outputs": [
    {
     "data": {
      "text/html": [
       "<div>\n",
       "<style scoped>\n",
       "    .dataframe tbody tr th:only-of-type {\n",
       "        vertical-align: middle;\n",
       "    }\n",
       "\n",
       "    .dataframe tbody tr th {\n",
       "        vertical-align: top;\n",
       "    }\n",
       "\n",
       "    .dataframe thead th {\n",
       "        text-align: right;\n",
       "    }\n",
       "</style>\n",
       "<table border=\"1\" class=\"dataframe\">\n",
       "  <thead>\n",
       "    <tr style=\"text-align: right;\">\n",
       "      <th></th>\n",
       "      <th>T</th>\n",
       "      <th>dof</th>\n",
       "      <th>alternative</th>\n",
       "      <th>p-val</th>\n",
       "      <th>CI95%</th>\n",
       "      <th>cohen-d</th>\n",
       "      <th>BF10</th>\n",
       "      <th>power</th>\n",
       "    </tr>\n",
       "  </thead>\n",
       "  <tbody>\n",
       "    <tr>\n",
       "      <th>T-test</th>\n",
       "      <td>1.359365</td>\n",
       "      <td>14.833454</td>\n",
       "      <td>two-sided</td>\n",
       "      <td>0.194339</td>\n",
       "      <td>[-0.02, 0.08]</td>\n",
       "      <td>0.586813</td>\n",
       "      <td>0.716</td>\n",
       "      <td>0.293641</td>\n",
       "    </tr>\n",
       "  </tbody>\n",
       "</table>\n",
       "</div>"
      ],
      "text/plain": [
       "               T        dof alternative     p-val          CI95%   cohen-d  \\\n",
       "T-test  1.359365  14.833454   two-sided  0.194339  [-0.02, 0.08]  0.586813   \n",
       "\n",
       "         BF10     power  \n",
       "T-test  0.716  0.293641  "
      ]
     },
     "execution_count": 11,
     "metadata": {},
     "output_type": "execute_result"
    }
   ],
   "source": [
    "pg.ttest(exp1, exp2)"
   ]
  },
  {
   "cell_type": "markdown",
   "metadata": {},
   "source": [
    "## Figures -- relative theta power difference between experiment 1 and 2"
   ]
  },
  {
   "cell_type": "code",
   "execution_count": 12,
   "metadata": {},
   "outputs": [
    {
     "data": {
      "image/png": "[encoded data removed]",
      "text/plain": [
       "<Figure size 432x288 with 1 Axes>"
      ]
     },
     "metadata": {
      "needs_background": "light"
     },
     "output_type": "display_data"
    },
    {
     "data": {
      "image/png": "[encoded data removed]",
      "text/plain": [
       "<Figure size 432x288 with 1 Axes>"
      ]
     },
     "metadata": {
      "needs_background": "light"
     },
     "output_type": "display_data"
    },
    {
     "data": {
      "image/png": "[encoded data removed]",
      "text/plain": [
       "<Figure size 432x288 with 1 Axes>"
      ]
     },
     "metadata": {
      "needs_background": "light"
     },
     "output_type": "display_data"
    },
    {
     "data": {
      "text/plain": [
       "<Figure size 432x288 with 0 Axes>"
      ]
     },
     "metadata": {},
     "output_type": "display_data"
    }
   ],
   "source": [
    "plotting_function(parameter='power', data=df_theta_bas, period='baseline', save_fig=True)\n",
    "plotting_function(parameter='power', data=df_theta_ret, period='retention', save_fig=True)\n",
    "plotting_function(parameter='power', data=df_theta_diff, period='difference', zero=True, save_fig=True)"
   ]
  },
  {
   "cell_type": "markdown",
   "metadata": {},
   "source": [
    "## Exponent differences between experiment 1 and 2? "
   ]
  },
  {
   "cell_type": "code",
   "execution_count": 13,
   "metadata": {},
   "outputs": [
    {
     "data": {
      "text/html": [
       "<div>\n",
       "<style scoped>\n",
       "    .dataframe tbody tr th:only-of-type {\n",
       "        vertical-align: middle;\n",
       "    }\n",
       "\n",
       "    .dataframe tbody tr th {\n",
       "        vertical-align: top;\n",
       "    }\n",
       "\n",
       "    .dataframe thead th {\n",
       "        text-align: right;\n",
       "    }\n",
       "</style>\n",
       "<table border=\"1\" class=\"dataframe\">\n",
       "  <thead>\n",
       "    <tr style=\"text-align: right;\">\n",
       "      <th></th>\n",
       "      <th></th>\n",
       "      <th>count</th>\n",
       "      <th>mean</th>\n",
       "      <th>std</th>\n",
       "      <th>min</th>\n",
       "      <th>25%</th>\n",
       "      <th>50%</th>\n",
       "      <th>75%</th>\n",
       "      <th>max</th>\n",
       "    </tr>\n",
       "    <tr>\n",
       "      <th>bas_ret_diff</th>\n",
       "      <th>experiment</th>\n",
       "      <th></th>\n",
       "      <th></th>\n",
       "      <th></th>\n",
       "      <th></th>\n",
       "      <th></th>\n",
       "      <th></th>\n",
       "      <th></th>\n",
       "      <th></th>\n",
       "    </tr>\n",
       "  </thead>\n",
       "  <tbody>\n",
       "    <tr>\n",
       "      <th rowspan=\"2\" valign=\"top\">bas</th>\n",
       "      <th>exp1</th>\n",
       "      <td>10.0</td>\n",
       "      <td>1.312695</td>\n",
       "      <td>0.291906</td>\n",
       "      <td>0.570989</td>\n",
       "      <td>1.251045</td>\n",
       "      <td>1.374411</td>\n",
       "      <td>1.457677</td>\n",
       "      <td>1.611323</td>\n",
       "    </tr>\n",
       "    <tr>\n",
       "      <th>exp2</th>\n",
       "      <td>17.0</td>\n",
       "      <td>1.223986</td>\n",
       "      <td>0.206608</td>\n",
       "      <td>0.910752</td>\n",
       "      <td>1.080517</td>\n",
       "      <td>1.182001</td>\n",
       "      <td>1.335610</td>\n",
       "      <td>1.619452</td>\n",
       "    </tr>\n",
       "    <tr>\n",
       "      <th rowspan=\"2\" valign=\"top\">diff</th>\n",
       "      <th>exp1</th>\n",
       "      <td>10.0</td>\n",
       "      <td>-0.028409</td>\n",
       "      <td>0.048598</td>\n",
       "      <td>-0.098739</td>\n",
       "      <td>-0.065054</td>\n",
       "      <td>-0.023851</td>\n",
       "      <td>0.015165</td>\n",
       "      <td>0.032468</td>\n",
       "    </tr>\n",
       "    <tr>\n",
       "      <th>exp2</th>\n",
       "      <td>17.0</td>\n",
       "      <td>-0.017316</td>\n",
       "      <td>0.066523</td>\n",
       "      <td>-0.146487</td>\n",
       "      <td>-0.076143</td>\n",
       "      <td>-0.010207</td>\n",
       "      <td>0.026483</td>\n",
       "      <td>0.100438</td>\n",
       "    </tr>\n",
       "    <tr>\n",
       "      <th rowspan=\"2\" valign=\"top\">ret</th>\n",
       "      <th>exp1</th>\n",
       "      <td>10.0</td>\n",
       "      <td>1.284286</td>\n",
       "      <td>0.301339</td>\n",
       "      <td>0.501150</td>\n",
       "      <td>1.264817</td>\n",
       "      <td>1.315183</td>\n",
       "      <td>1.437028</td>\n",
       "      <td>1.635813</td>\n",
       "    </tr>\n",
       "    <tr>\n",
       "      <th>exp2</th>\n",
       "      <td>17.0</td>\n",
       "      <td>1.206671</td>\n",
       "      <td>0.215012</td>\n",
       "      <td>0.896768</td>\n",
       "      <td>1.066437</td>\n",
       "      <td>1.115937</td>\n",
       "      <td>1.326109</td>\n",
       "      <td>1.626501</td>\n",
       "    </tr>\n",
       "  </tbody>\n",
       "</table>\n",
       "</div>"
      ],
      "text/plain": [
       "                         count      mean       std       min       25%  \\\n",
       "bas_ret_diff experiment                                                  \n",
       "bas          exp1         10.0  1.312695  0.291906  0.570989  1.251045   \n",
       "             exp2         17.0  1.223986  0.206608  0.910752  1.080517   \n",
       "diff         exp1         10.0 -0.028409  0.048598 -0.098739 -0.065054   \n",
       "             exp2         17.0 -0.017316  0.066523 -0.146487 -0.076143   \n",
       "ret          exp1         10.0  1.284286  0.301339  0.501150  1.264817   \n",
       "             exp2         17.0  1.206671  0.215012  0.896768  1.066437   \n",
       "\n",
       "                              50%       75%       max  \n",
       "bas_ret_diff experiment                                \n",
       "bas          exp1        1.374411  1.457677  1.611323  \n",
       "             exp2        1.182001  1.335610  1.619452  \n",
       "diff         exp1       -0.023851  0.015165  0.032468  \n",
       "             exp2       -0.010207  0.026483  0.100438  \n",
       "ret          exp1        1.315183  1.437028  1.635813  \n",
       "             exp2        1.115937  1.326109  1.626501  "
      ]
     },
     "execution_count": 13,
     "metadata": {},
     "output_type": "execute_result"
    }
   ],
   "source": [
    "df_theta.groupby(['bas_ret_diff', 'experiment'])['exponent'].describe()"
   ]
  },
  {
   "cell_type": "markdown",
   "metadata": {},
   "source": [
    "### Retention period"
   ]
  },
  {
   "cell_type": "code",
   "execution_count": 14,
   "metadata": {},
   "outputs": [
    {
     "name": "stdout",
     "output_type": "stream",
     "text": [
      "          W      pval  normal\n",
      "0  0.745976  0.003188   False\n",
      "          W      pval  normal\n",
      "0  0.932071  0.235673    True\n",
      "               W      pval  equal_var\n",
      "levene  0.001924  0.965361       True\n"
     ]
    }
   ],
   "source": [
    "exp1 = df_theta.query('bas_ret_diff==\"ret\" & experiment==\"exp1\"')['exponent'].values\n",
    "exp2 = df_theta.query('bas_ret_diff==\"ret\" & experiment==\"exp2\"')['exponent'].values\n",
    "\n",
    "# Normality\n",
    "print(pg.normality(exp1))\n",
    "print(pg.normality(exp2))\n",
    "\n",
    "# Equal variance\n",
    "df_theta_ret = df_theta.query('bas_ret_diff==\"ret\"')\n",
    "print(pg.homoscedasticity(data=df_theta_ret, dv='exponent', group='experiment', method='levene'))"
   ]
  },
  {
   "cell_type": "code",
   "execution_count": 15,
   "metadata": {},
   "outputs": [
    {
     "data": {
      "text/html": [
       "<div>\n",
       "<style scoped>\n",
       "    .dataframe tbody tr th:only-of-type {\n",
       "        vertical-align: middle;\n",
       "    }\n",
       "\n",
       "    .dataframe tbody tr th {\n",
       "        vertical-align: top;\n",
       "    }\n",
       "\n",
       "    .dataframe thead th {\n",
       "        text-align: right;\n",
       "    }\n",
       "</style>\n",
       "<table border=\"1\" class=\"dataframe\">\n",
       "  <thead>\n",
       "    <tr style=\"text-align: right;\">\n",
       "      <th></th>\n",
       "      <th>T</th>\n",
       "      <th>dof</th>\n",
       "      <th>alternative</th>\n",
       "      <th>p-val</th>\n",
       "      <th>CI95%</th>\n",
       "      <th>cohen-d</th>\n",
       "      <th>BF10</th>\n",
       "      <th>power</th>\n",
       "    </tr>\n",
       "  </thead>\n",
       "  <tbody>\n",
       "    <tr>\n",
       "      <th>T-test</th>\n",
       "      <td>0.714512</td>\n",
       "      <td>14.467912</td>\n",
       "      <td>two-sided</td>\n",
       "      <td>0.48628</td>\n",
       "      <td>[-0.15, 0.31]</td>\n",
       "      <td>0.311017</td>\n",
       "      <td>0.443</td>\n",
       "      <td>0.116654</td>\n",
       "    </tr>\n",
       "  </tbody>\n",
       "</table>\n",
       "</div>"
      ],
      "text/plain": [
       "               T        dof alternative    p-val          CI95%   cohen-d  \\\n",
       "T-test  0.714512  14.467912   two-sided  0.48628  [-0.15, 0.31]  0.311017   \n",
       "\n",
       "         BF10     power  \n",
       "T-test  0.443  0.116654  "
      ]
     },
     "execution_count": 15,
     "metadata": {},
     "output_type": "execute_result"
    }
   ],
   "source": [
    "pg.ttest(exp1, exp2)"
   ]
  },
  {
   "cell_type": "markdown",
   "metadata": {},
   "source": [
    "### Baseline period"
   ]
  },
  {
   "cell_type": "code",
   "execution_count": 16,
   "metadata": {},
   "outputs": [
    {
     "name": "stdout",
     "output_type": "stream",
     "text": [
      "          W      pval  normal\n",
      "0  0.793264  0.012007   False\n",
      "          W      pval  normal\n",
      "0  0.926606  0.190899    True\n",
      "               W      pval  equal_var\n",
      "levene  0.077763  0.782645       True\n"
     ]
    }
   ],
   "source": [
    "exp1 = df_theta.query('bas_ret_diff==\"bas\" & experiment==\"exp1\"')['exponent'].values\n",
    "exp2 = df_theta.query('bas_ret_diff==\"bas\" & experiment==\"exp2\"')['exponent'].values\n",
    "\n",
    "# Normality\n",
    "print(pg.normality(exp1))\n",
    "print(pg.normality(exp2))\n",
    "\n",
    "# Equal variance\n",
    "df_theta_bas = df_theta.query('bas_ret_diff==\"bas\"')\n",
    "print(pg.homoscedasticity(data=df_theta_bas, dv='exponent', group='experiment', method='levene'))\n",
    "\n"
   ]
  },
  {
   "cell_type": "code",
   "execution_count": 17,
   "metadata": {},
   "outputs": [
    {
     "data": {
      "text/html": [
       "<div>\n",
       "<style scoped>\n",
       "    .dataframe tbody tr th:only-of-type {\n",
       "        vertical-align: middle;\n",
       "    }\n",
       "\n",
       "    .dataframe tbody tr th {\n",
       "        vertical-align: top;\n",
       "    }\n",
       "\n",
       "    .dataframe thead th {\n",
       "        text-align: right;\n",
       "    }\n",
       "</style>\n",
       "<table border=\"1\" class=\"dataframe\">\n",
       "  <thead>\n",
       "    <tr style=\"text-align: right;\">\n",
       "      <th></th>\n",
       "      <th>T</th>\n",
       "      <th>dof</th>\n",
       "      <th>alternative</th>\n",
       "      <th>p-val</th>\n",
       "      <th>CI95%</th>\n",
       "      <th>cohen-d</th>\n",
       "      <th>BF10</th>\n",
       "      <th>power</th>\n",
       "    </tr>\n",
       "  </thead>\n",
       "  <tbody>\n",
       "    <tr>\n",
       "      <th>T-test</th>\n",
       "      <td>0.844579</td>\n",
       "      <td>14.383331</td>\n",
       "      <td>two-sided</td>\n",
       "      <td>0.412174</td>\n",
       "      <td>[-0.14, 0.31]</td>\n",
       "      <td>0.368358</td>\n",
       "      <td>0.477</td>\n",
       "      <td>0.14432</td>\n",
       "    </tr>\n",
       "  </tbody>\n",
       "</table>\n",
       "</div>"
      ],
      "text/plain": [
       "               T        dof alternative     p-val          CI95%   cohen-d  \\\n",
       "T-test  0.844579  14.383331   two-sided  0.412174  [-0.14, 0.31]  0.368358   \n",
       "\n",
       "         BF10    power  \n",
       "T-test  0.477  0.14432  "
      ]
     },
     "execution_count": 17,
     "metadata": {},
     "output_type": "execute_result"
    }
   ],
   "source": [
    "pg.ttest(exp1, exp2)"
   ]
  },
  {
   "cell_type": "markdown",
   "metadata": {},
   "source": [
    "### Difference : retention - baseline"
   ]
  },
  {
   "cell_type": "code",
   "execution_count": 18,
   "metadata": {},
   "outputs": [
    {
     "name": "stdout",
     "output_type": "stream",
     "text": [
      "          W      pval  normal\n",
      "0  0.923091  0.383461    True\n",
      "          W      pval  normal\n",
      "0  0.978348  0.940588    True\n",
      "               W      pval  equal_var\n",
      "levene  1.057315  0.313675       True\n"
     ]
    }
   ],
   "source": [
    "exp1 = df_theta.query('bas_ret_diff==\"diff\" & experiment==\"exp1\"')['exponent'].values\n",
    "exp2 = df_theta.query('bas_ret_diff==\"diff\" & experiment==\"exp2\"')['exponent'].values\n",
    "\n",
    "# Normality\n",
    "print(pg.normality(exp1))\n",
    "print(pg.normality(exp2))\n",
    "\n",
    "# Equal variance\n",
    "df_theta_diff = df_theta.query('bas_ret_diff==\"diff\"')\n",
    "print(pg.homoscedasticity(data=df_theta_diff, dv='exponent', group='experiment', method='levene'))\n"
   ]
  },
  {
   "cell_type": "code",
   "execution_count": 19,
   "metadata": {},
   "outputs": [
    {
     "data": {
      "text/html": [
       "<div>\n",
       "<style scoped>\n",
       "    .dataframe tbody tr th:only-of-type {\n",
       "        vertical-align: middle;\n",
       "    }\n",
       "\n",
       "    .dataframe tbody tr th {\n",
       "        vertical-align: top;\n",
       "    }\n",
       "\n",
       "    .dataframe thead th {\n",
       "        text-align: right;\n",
       "    }\n",
       "</style>\n",
       "<table border=\"1\" class=\"dataframe\">\n",
       "  <thead>\n",
       "    <tr style=\"text-align: right;\">\n",
       "      <th></th>\n",
       "      <th>T</th>\n",
       "      <th>dof</th>\n",
       "      <th>alternative</th>\n",
       "      <th>p-val</th>\n",
       "      <th>CI95%</th>\n",
       "      <th>cohen-d</th>\n",
       "      <th>BF10</th>\n",
       "      <th>power</th>\n",
       "    </tr>\n",
       "  </thead>\n",
       "  <tbody>\n",
       "    <tr>\n",
       "      <th>T-test</th>\n",
       "      <td>-0.497838</td>\n",
       "      <td>23.627511</td>\n",
       "      <td>two-sided</td>\n",
       "      <td>0.6232</td>\n",
       "      <td>[-0.06, 0.03]</td>\n",
       "      <td>0.182799</td>\n",
       "      <td>0.402</td>\n",
       "      <td>0.072595</td>\n",
       "    </tr>\n",
       "  </tbody>\n",
       "</table>\n",
       "</div>"
      ],
      "text/plain": [
       "               T        dof alternative   p-val          CI95%   cohen-d  \\\n",
       "T-test -0.497838  23.627511   two-sided  0.6232  [-0.06, 0.03]  0.182799   \n",
       "\n",
       "         BF10     power  \n",
       "T-test  0.402  0.072595  "
      ]
     },
     "execution_count": 19,
     "metadata": {},
     "output_type": "execute_result"
    }
   ],
   "source": [
    "pg.ttest(exp1, exp2)"
   ]
  },
  {
   "cell_type": "markdown",
   "metadata": {},
   "source": [
    "### Figures for exponent comparison"
   ]
  },
  {
   "cell_type": "code",
   "execution_count": 20,
   "metadata": {},
   "outputs": [
    {
     "data": {
      "image/png": "[encoded data removed]",
      "text/plain": [
       "<Figure size 432x288 with 1 Axes>"
      ]
     },
     "metadata": {
      "needs_background": "light"
     },
     "output_type": "display_data"
    },
    {
     "data": {
      "image/png": "[encoded data removed]",
      "text/plain": [
       "<Figure size 432x288 with 1 Axes>"
      ]
     },
     "metadata": {
      "needs_background": "light"
     },
     "output_type": "display_data"
    },
    {
     "data": {
      "image/png": "[encoded data removed]",
      "text/plain": [
       "<Figure size 432x288 with 1 Axes>"
      ]
     },
     "metadata": {
      "needs_background": "light"
     },
     "output_type": "display_data"
    }
   ],
   "source": [
    "plotting_function(parameter='exponent', data=df_theta_bas, period='baseline', save_fig=False)\n",
    "plotting_function(parameter='exponent', data=df_theta_ret, period='retention', save_fig=False)\n",
    "plotting_function(parameter='exponent', data=df_theta_diff, period='difference', zero=True, save_fig=False)"
   ]
  },
  {
   "cell_type": "markdown",
   "metadata": {},
   "source": [
    "## Offset differences between experiment 1 and 2? "
   ]
  },
  {
   "cell_type": "code",
   "execution_count": 21,
   "metadata": {},
   "outputs": [
    {
     "data": {
      "text/html": [
       "<div>\n",
       "<style scoped>\n",
       "    .dataframe tbody tr th:only-of-type {\n",
       "        vertical-align: middle;\n",
       "    }\n",
       "\n",
       "    .dataframe tbody tr th {\n",
       "        vertical-align: top;\n",
       "    }\n",
       "\n",
       "    .dataframe thead th {\n",
       "        text-align: right;\n",
       "    }\n",
       "</style>\n",
       "<table border=\"1\" class=\"dataframe\">\n",
       "  <thead>\n",
       "    <tr style=\"text-align: right;\">\n",
       "      <th></th>\n",
       "      <th></th>\n",
       "      <th>count</th>\n",
       "      <th>mean</th>\n",
       "      <th>std</th>\n",
       "      <th>min</th>\n",
       "      <th>25%</th>\n",
       "      <th>50%</th>\n",
       "      <th>75%</th>\n",
       "      <th>max</th>\n",
       "    </tr>\n",
       "    <tr>\n",
       "      <th>bas_ret_diff</th>\n",
       "      <th>experiment</th>\n",
       "      <th></th>\n",
       "      <th></th>\n",
       "      <th></th>\n",
       "      <th></th>\n",
       "      <th></th>\n",
       "      <th></th>\n",
       "      <th></th>\n",
       "      <th></th>\n",
       "    </tr>\n",
       "  </thead>\n",
       "  <tbody>\n",
       "    <tr>\n",
       "      <th rowspan=\"2\" valign=\"top\">bas</th>\n",
       "      <th>exp1</th>\n",
       "      <td>10.0</td>\n",
       "      <td>1.203055</td>\n",
       "      <td>0.258151</td>\n",
       "      <td>0.677043</td>\n",
       "      <td>1.178364</td>\n",
       "      <td>1.243799</td>\n",
       "      <td>1.361431</td>\n",
       "      <td>1.512649</td>\n",
       "    </tr>\n",
       "    <tr>\n",
       "      <th>exp2</th>\n",
       "      <td>17.0</td>\n",
       "      <td>1.010327</td>\n",
       "      <td>0.214201</td>\n",
       "      <td>0.708019</td>\n",
       "      <td>0.806721</td>\n",
       "      <td>1.009322</td>\n",
       "      <td>1.156961</td>\n",
       "      <td>1.369067</td>\n",
       "    </tr>\n",
       "    <tr>\n",
       "      <th rowspan=\"2\" valign=\"top\">diff</th>\n",
       "      <th>exp1</th>\n",
       "      <td>10.0</td>\n",
       "      <td>-0.064435</td>\n",
       "      <td>0.056000</td>\n",
       "      <td>-0.148521</td>\n",
       "      <td>-0.099759</td>\n",
       "      <td>-0.079731</td>\n",
       "      <td>-0.021960</td>\n",
       "      <td>0.015223</td>\n",
       "    </tr>\n",
       "    <tr>\n",
       "      <th>exp2</th>\n",
       "      <td>17.0</td>\n",
       "      <td>-0.057609</td>\n",
       "      <td>0.086225</td>\n",
       "      <td>-0.207330</td>\n",
       "      <td>-0.111864</td>\n",
       "      <td>-0.034253</td>\n",
       "      <td>-0.005350</td>\n",
       "      <td>0.099710</td>\n",
       "    </tr>\n",
       "    <tr>\n",
       "      <th rowspan=\"2\" valign=\"top\">ret</th>\n",
       "      <th>exp1</th>\n",
       "      <td>10.0</td>\n",
       "      <td>1.138620</td>\n",
       "      <td>0.265071</td>\n",
       "      <td>0.579406</td>\n",
       "      <td>1.110271</td>\n",
       "      <td>1.235482</td>\n",
       "      <td>1.304730</td>\n",
       "      <td>1.395427</td>\n",
       "    </tr>\n",
       "    <tr>\n",
       "      <th>exp2</th>\n",
       "      <td>17.0</td>\n",
       "      <td>0.952718</td>\n",
       "      <td>0.238457</td>\n",
       "      <td>0.589707</td>\n",
       "      <td>0.732864</td>\n",
       "      <td>0.919096</td>\n",
       "      <td>1.143282</td>\n",
       "      <td>1.351795</td>\n",
       "    </tr>\n",
       "  </tbody>\n",
       "</table>\n",
       "</div>"
      ],
      "text/plain": [
       "                         count      mean       std       min       25%  \\\n",
       "bas_ret_diff experiment                                                  \n",
       "bas          exp1         10.0  1.203055  0.258151  0.677043  1.178364   \n",
       "             exp2         17.0  1.010327  0.214201  0.708019  0.806721   \n",
       "diff         exp1         10.0 -0.064435  0.056000 -0.148521 -0.099759   \n",
       "             exp2         17.0 -0.057609  0.086225 -0.207330 -0.111864   \n",
       "ret          exp1         10.0  1.138620  0.265071  0.579406  1.110271   \n",
       "             exp2         17.0  0.952718  0.238457  0.589707  0.732864   \n",
       "\n",
       "                              50%       75%       max  \n",
       "bas_ret_diff experiment                                \n",
       "bas          exp1        1.243799  1.361431  1.512649  \n",
       "             exp2        1.009322  1.156961  1.369067  \n",
       "diff         exp1       -0.079731 -0.021960  0.015223  \n",
       "             exp2       -0.034253 -0.005350  0.099710  \n",
       "ret          exp1        1.235482  1.304730  1.395427  \n",
       "             exp2        0.919096  1.143282  1.351795  "
      ]
     },
     "execution_count": 21,
     "metadata": {},
     "output_type": "execute_result"
    }
   ],
   "source": [
    "df_theta.groupby(['bas_ret_diff', 'experiment'])['offset'].describe()"
   ]
  },
  {
   "cell_type": "markdown",
   "metadata": {},
   "source": [
    "### Retention period"
   ]
  },
  {
   "cell_type": "code",
   "execution_count": 22,
   "metadata": {},
   "outputs": [
    {
     "name": "stdout",
     "output_type": "stream",
     "text": [
      "          W      pval  normal\n",
      "0  0.828321  0.031938   False\n",
      "          W      pval  normal\n",
      "0  0.943474  0.361731    True\n",
      "               W      pval  equal_var\n",
      "levene  0.126478  0.725095       True\n"
     ]
    }
   ],
   "source": [
    "exp1 = df_theta.query('bas_ret_diff==\"ret\" & experiment==\"exp1\"')['offset'].values\n",
    "exp2 = df_theta.query('bas_ret_diff==\"ret\" & experiment==\"exp2\"')['offset'].values\n",
    "\n",
    "# Normality\n",
    "print(pg.normality(exp1))\n",
    "print(pg.normality(exp2))\n",
    "\n",
    "# Equal variance\n",
    "df_theta_ret = df_theta.query('bas_ret_diff==\"ret\"')\n",
    "print(pg.homoscedasticity(data=df_theta_ret, dv='offset', group='experiment', method='levene'))"
   ]
  },
  {
   "cell_type": "code",
   "execution_count": 23,
   "metadata": {},
   "outputs": [
    {
     "data": {
      "text/html": [
       "<div>\n",
       "<style scoped>\n",
       "    .dataframe tbody tr th:only-of-type {\n",
       "        vertical-align: middle;\n",
       "    }\n",
       "\n",
       "    .dataframe tbody tr th {\n",
       "        vertical-align: top;\n",
       "    }\n",
       "\n",
       "    .dataframe thead th {\n",
       "        text-align: right;\n",
       "    }\n",
       "</style>\n",
       "<table border=\"1\" class=\"dataframe\">\n",
       "  <thead>\n",
       "    <tr style=\"text-align: right;\">\n",
       "      <th></th>\n",
       "      <th>T</th>\n",
       "      <th>dof</th>\n",
       "      <th>alternative</th>\n",
       "      <th>p-val</th>\n",
       "      <th>CI95%</th>\n",
       "      <th>cohen-d</th>\n",
       "      <th>BF10</th>\n",
       "      <th>power</th>\n",
       "    </tr>\n",
       "  </thead>\n",
       "  <tbody>\n",
       "    <tr>\n",
       "      <th>T-test</th>\n",
       "      <td>1.825452</td>\n",
       "      <td>17.391404</td>\n",
       "      <td>two-sided</td>\n",
       "      <td>0.085155</td>\n",
       "      <td>[-0.03, 0.4]</td>\n",
       "      <td>0.748495</td>\n",
       "      <td>1.2</td>\n",
       "      <td>0.438875</td>\n",
       "    </tr>\n",
       "  </tbody>\n",
       "</table>\n",
       "</div>"
      ],
      "text/plain": [
       "               T        dof alternative     p-val         CI95%   cohen-d  \\\n",
       "T-test  1.825452  17.391404   two-sided  0.085155  [-0.03, 0.4]  0.748495   \n",
       "\n",
       "       BF10     power  \n",
       "T-test  1.2  0.438875  "
      ]
     },
     "execution_count": 23,
     "metadata": {},
     "output_type": "execute_result"
    }
   ],
   "source": [
    "pg.ttest(exp1, exp2)"
   ]
  },
  {
   "cell_type": "markdown",
   "metadata": {},
   "source": [
    "### Baseline period"
   ]
  },
  {
   "cell_type": "code",
   "execution_count": 24,
   "metadata": {},
   "outputs": [
    {
     "name": "stdout",
     "output_type": "stream",
     "text": [
      "          W      pval  normal\n",
      "0  0.893072  0.183589    True\n",
      "          W      pval  normal\n",
      "0  0.942636  0.350787    True\n",
      "               W      pval  equal_var\n",
      "levene  0.029382  0.865279       True\n"
     ]
    }
   ],
   "source": [
    "exp1 = df_theta.query('bas_ret_diff==\"bas\" & experiment==\"exp1\"')['offset'].values\n",
    "exp2 = df_theta.query('bas_ret_diff==\"bas\" & experiment==\"exp2\"')['offset'].values\n",
    "\n",
    "# Normality\n",
    "print(pg.normality(exp1))\n",
    "print(pg.normality(exp2))\n",
    "\n",
    "# Equal variance\n",
    "df_theta_bas = df_theta.query('bas_ret_diff==\"bas\"')\n",
    "print(pg.homoscedasticity(data=df_theta_bas, dv='offset', group='experiment', method='levene'))\n",
    "\n"
   ]
  },
  {
   "cell_type": "code",
   "execution_count": 25,
   "metadata": {},
   "outputs": [
    {
     "data": {
      "text/html": [
       "<div>\n",
       "<style scoped>\n",
       "    .dataframe tbody tr th:only-of-type {\n",
       "        vertical-align: middle;\n",
       "    }\n",
       "\n",
       "    .dataframe tbody tr th {\n",
       "        vertical-align: top;\n",
       "    }\n",
       "\n",
       "    .dataframe thead th {\n",
       "        text-align: right;\n",
       "    }\n",
       "</style>\n",
       "<table border=\"1\" class=\"dataframe\">\n",
       "  <thead>\n",
       "    <tr style=\"text-align: right;\">\n",
       "      <th></th>\n",
       "      <th>T</th>\n",
       "      <th>dof</th>\n",
       "      <th>alternative</th>\n",
       "      <th>p-val</th>\n",
       "      <th>CI95%</th>\n",
       "      <th>cohen-d</th>\n",
       "      <th>BF10</th>\n",
       "      <th>power</th>\n",
       "    </tr>\n",
       "  </thead>\n",
       "  <tbody>\n",
       "    <tr>\n",
       "      <th>T-test</th>\n",
       "      <td>1.991742</td>\n",
       "      <td>16.265383</td>\n",
       "      <td>two-sided</td>\n",
       "      <td>0.063464</td>\n",
       "      <td>[-0.01, 0.4]</td>\n",
       "      <td>0.83436</td>\n",
       "      <td>1.489</td>\n",
       "      <td>0.521139</td>\n",
       "    </tr>\n",
       "  </tbody>\n",
       "</table>\n",
       "</div>"
      ],
      "text/plain": [
       "               T        dof alternative     p-val         CI95%  cohen-d  \\\n",
       "T-test  1.991742  16.265383   two-sided  0.063464  [-0.01, 0.4]  0.83436   \n",
       "\n",
       "         BF10     power  \n",
       "T-test  1.489  0.521139  "
      ]
     },
     "execution_count": 25,
     "metadata": {},
     "output_type": "execute_result"
    }
   ],
   "source": [
    "pg.ttest(exp1, exp2)"
   ]
  },
  {
   "cell_type": "markdown",
   "metadata": {},
   "source": [
    "### Difference : retention - baseline"
   ]
  },
  {
   "cell_type": "code",
   "execution_count": 26,
   "metadata": {},
   "outputs": [
    {
     "name": "stdout",
     "output_type": "stream",
     "text": [
      "          W      pval  normal\n",
      "0  0.933898  0.487307    True\n",
      "          W      pval  normal\n",
      "0  0.976192  0.914726    True\n",
      "               W      pval  equal_var\n",
      "levene  1.296938  0.265569       True\n"
     ]
    }
   ],
   "source": [
    "exp1 = df_theta.query('bas_ret_diff==\"diff\" & experiment==\"exp1\"')['offset'].values\n",
    "exp2 = df_theta.query('bas_ret_diff==\"diff\" & experiment==\"exp2\"')['offset'].values\n",
    "\n",
    "# Normality\n",
    "print(pg.normality(exp1))\n",
    "print(pg.normality(exp2))\n",
    "\n",
    "# Equal variance\n",
    "df_theta_diff = df_theta.query('bas_ret_diff==\"diff\"')\n",
    "print(pg.homoscedasticity(data=df_theta_diff, dv='offset', group='experiment', method='levene'))\n"
   ]
  },
  {
   "cell_type": "code",
   "execution_count": 27,
   "metadata": {},
   "outputs": [
    {
     "data": {
      "text/html": [
       "<div>\n",
       "<style scoped>\n",
       "    .dataframe tbody tr th:only-of-type {\n",
       "        vertical-align: middle;\n",
       "    }\n",
       "\n",
       "    .dataframe tbody tr th {\n",
       "        vertical-align: top;\n",
       "    }\n",
       "\n",
       "    .dataframe thead th {\n",
       "        text-align: right;\n",
       "    }\n",
       "</style>\n",
       "<table border=\"1\" class=\"dataframe\">\n",
       "  <thead>\n",
       "    <tr style=\"text-align: right;\">\n",
       "      <th></th>\n",
       "      <th>T</th>\n",
       "      <th>dof</th>\n",
       "      <th>alternative</th>\n",
       "      <th>p-val</th>\n",
       "      <th>CI95%</th>\n",
       "      <th>cohen-d</th>\n",
       "      <th>BF10</th>\n",
       "      <th>power</th>\n",
       "    </tr>\n",
       "  </thead>\n",
       "  <tbody>\n",
       "    <tr>\n",
       "      <th>T-test</th>\n",
       "      <td>-0.2491</td>\n",
       "      <td>24.644925</td>\n",
       "      <td>two-sided</td>\n",
       "      <td>0.805348</td>\n",
       "      <td>[-0.06, 0.05]</td>\n",
       "      <td>0.088966</td>\n",
       "      <td>0.375</td>\n",
       "      <td>0.055302</td>\n",
       "    </tr>\n",
       "  </tbody>\n",
       "</table>\n",
       "</div>"
      ],
      "text/plain": [
       "             T        dof alternative     p-val          CI95%   cohen-d  \\\n",
       "T-test -0.2491  24.644925   two-sided  0.805348  [-0.06, 0.05]  0.088966   \n",
       "\n",
       "         BF10     power  \n",
       "T-test  0.375  0.055302  "
      ]
     },
     "execution_count": 27,
     "metadata": {},
     "output_type": "execute_result"
    }
   ],
   "source": [
    "pg.ttest(exp1, exp2)"
   ]
  },
  {
   "cell_type": "markdown",
   "metadata": {},
   "source": [
    "### Figures for exponent comparison"
   ]
  },
  {
   "cell_type": "code",
   "execution_count": 28,
   "metadata": {},
   "outputs": [
    {
     "data": {
      "image/png": "[encoded data removed]",
      "text/plain": [
       "<Figure size 432x288 with 1 Axes>"
      ]
     },
     "metadata": {
      "needs_background": "light"
     },
     "output_type": "display_data"
    },
    {
     "data": {
      "image/png": "[encoded data removed]",
      "text/plain": [
       "<Figure size 432x288 with 1 Axes>"
      ]
     },
     "metadata": {
      "needs_background": "light"
     },
     "output_type": "display_data"
    },
    {
     "data": {
      "image/png": "[encoded data removed]",
      "text/plain": [
       "<Figure size 432x288 with 1 Axes>"
      ]
     },
     "metadata": {
      "needs_background": "light"
     },
     "output_type": "display_data"
    }
   ],
   "source": [
    "plotting_function(parameter='offset', data=df_theta_bas, period='baseline', save_fig=False)\n",
    "plotting_function(parameter='offset', data=df_theta_ret, period='retention', save_fig=False)\n",
    "plotting_function(parameter='offset', data=df_theta_diff, period='difference', zero=True, save_fig=False)"
   ]
  },
  {
   "cell_type": "markdown",
   "metadata": {},
   "source": [
    "# ALPHA"
   ]
  },
  {
   "cell_type": "code",
   "execution_count": 29,
   "metadata": {},
   "outputs": [
    {
     "data": {
      "text/html": [
       "<div>\n",
       "<style scoped>\n",
       "    .dataframe tbody tr th:only-of-type {\n",
       "        vertical-align: middle;\n",
       "    }\n",
       "\n",
       "    .dataframe tbody tr th {\n",
       "        vertical-align: top;\n",
       "    }\n",
       "\n",
       "    .dataframe thead th {\n",
       "        text-align: right;\n",
       "    }\n",
       "</style>\n",
       "<table border=\"1\" class=\"dataframe\">\n",
       "  <thead>\n",
       "    <tr style=\"text-align: right;\">\n",
       "      <th></th>\n",
       "      <th>bas_ret_diff</th>\n",
       "      <th>sub_id</th>\n",
       "      <th>exponent</th>\n",
       "      <th>offset</th>\n",
       "      <th>power</th>\n",
       "      <th>bandpower</th>\n",
       "      <th>experiment</th>\n",
       "    </tr>\n",
       "  </thead>\n",
       "  <tbody>\n",
       "    <tr>\n",
       "      <th>0</th>\n",
       "      <td>bas</td>\n",
       "      <td>1.0</td>\n",
       "      <td>1.549387</td>\n",
       "      <td>1.096007</td>\n",
       "      <td>1.657650</td>\n",
       "      <td>17.043041</td>\n",
       "      <td>exp1</td>\n",
       "    </tr>\n",
       "    <tr>\n",
       "      <th>1</th>\n",
       "      <td>bas</td>\n",
       "      <td>2.0</td>\n",
       "      <td>1.302188</td>\n",
       "      <td>1.063095</td>\n",
       "      <td>0.855265</td>\n",
       "      <td>5.295419</td>\n",
       "      <td>exp1</td>\n",
       "    </tr>\n",
       "    <tr>\n",
       "      <th>2</th>\n",
       "      <td>bas</td>\n",
       "      <td>3.0</td>\n",
       "      <td>1.182947</td>\n",
       "      <td>0.810587</td>\n",
       "      <td>0.857721</td>\n",
       "      <td>4.278498</td>\n",
       "      <td>exp1</td>\n",
       "    </tr>\n",
       "    <tr>\n",
       "      <th>3</th>\n",
       "      <td>bas</td>\n",
       "      <td>4.0</td>\n",
       "      <td>1.617695</td>\n",
       "      <td>1.060883</td>\n",
       "      <td>1.840042</td>\n",
       "      <td>11.662962</td>\n",
       "      <td>exp1</td>\n",
       "    </tr>\n",
       "    <tr>\n",
       "      <th>4</th>\n",
       "      <td>bas</td>\n",
       "      <td>5.0</td>\n",
       "      <td>0.542945</td>\n",
       "      <td>0.349830</td>\n",
       "      <td>0.809761</td>\n",
       "      <td>3.817381</td>\n",
       "      <td>exp1</td>\n",
       "    </tr>\n",
       "    <tr>\n",
       "      <th>...</th>\n",
       "      <td>...</td>\n",
       "      <td>...</td>\n",
       "      <td>...</td>\n",
       "      <td>...</td>\n",
       "      <td>...</td>\n",
       "      <td>...</td>\n",
       "      <td>...</td>\n",
       "    </tr>\n",
       "    <tr>\n",
       "      <th>73</th>\n",
       "      <td>ret</td>\n",
       "      <td>40.0</td>\n",
       "      <td>1.538226</td>\n",
       "      <td>1.064861</td>\n",
       "      <td>0.788135</td>\n",
       "      <td>2.362761</td>\n",
       "      <td>exp2</td>\n",
       "    </tr>\n",
       "    <tr>\n",
       "      <th>74</th>\n",
       "      <td>ret</td>\n",
       "      <td>45.0</td>\n",
       "      <td>1.389720</td>\n",
       "      <td>1.113970</td>\n",
       "      <td>1.296968</td>\n",
       "      <td>10.399516</td>\n",
       "      <td>exp2</td>\n",
       "    </tr>\n",
       "    <tr>\n",
       "      <th>75</th>\n",
       "      <td>ret</td>\n",
       "      <td>46.0</td>\n",
       "      <td>0.908953</td>\n",
       "      <td>0.305147</td>\n",
       "      <td>0.315484</td>\n",
       "      <td>0.594546</td>\n",
       "      <td>exp2</td>\n",
       "    </tr>\n",
       "    <tr>\n",
       "      <th>76</th>\n",
       "      <td>ret</td>\n",
       "      <td>47.0</td>\n",
       "      <td>1.061414</td>\n",
       "      <td>0.634164</td>\n",
       "      <td>1.048016</td>\n",
       "      <td>3.645903</td>\n",
       "      <td>exp2</td>\n",
       "    </tr>\n",
       "    <tr>\n",
       "      <th>77</th>\n",
       "      <td>ret</td>\n",
       "      <td>48.0</td>\n",
       "      <td>1.117231</td>\n",
       "      <td>0.566877</td>\n",
       "      <td>0.740069</td>\n",
       "      <td>1.791472</td>\n",
       "      <td>exp2</td>\n",
       "    </tr>\n",
       "  </tbody>\n",
       "</table>\n",
       "<p>156 rows × 7 columns</p>\n",
       "</div>"
      ],
      "text/plain": [
       "   bas_ret_diff  sub_id  exponent    offset     power  bandpower experiment\n",
       "0           bas     1.0  1.549387  1.096007  1.657650  17.043041       exp1\n",
       "1           bas     2.0  1.302188  1.063095  0.855265   5.295419       exp1\n",
       "2           bas     3.0  1.182947  0.810587  0.857721   4.278498       exp1\n",
       "3           bas     4.0  1.617695  1.060883  1.840042  11.662962       exp1\n",
       "4           bas     5.0  0.542945  0.349830  0.809761   3.817381       exp1\n",
       "..          ...     ...       ...       ...       ...        ...        ...\n",
       "73          ret    40.0  1.538226  1.064861  0.788135   2.362761       exp2\n",
       "74          ret    45.0  1.389720  1.113970  1.296968  10.399516       exp2\n",
       "75          ret    46.0  0.908953  0.305147  0.315484   0.594546       exp2\n",
       "76          ret    47.0  1.061414  0.634164  1.048016   3.645903       exp2\n",
       "77          ret    48.0  1.117231  0.566877  0.740069   1.791472       exp2\n",
       "\n",
       "[156 rows x 7 columns]"
      ]
     },
     "execution_count": 29,
     "metadata": {},
     "output_type": "execute_result"
    }
   ],
   "source": [
    "keep_cols = ['exponent', 'offset', \n",
    "    'power', 'bandpower']\n",
    "\n",
    "df_alpha_exp1_avg = df_alpha_exp1.groupby(['bas_ret_diff', 'sub_id'], as_index=False)[keep_cols].mean()\n",
    "df_alpha_exp2_avg = df_alpha_exp2.groupby(['bas_ret_diff', 'sub_id'], as_index=False)[keep_cols].mean()\n",
    "\n",
    "# Add a column indicating the experiment the dataframe is from\n",
    "df_alpha_exp1_avg['experiment'] = 'exp1'\n",
    "df_alpha_exp2_avg['experiment'] = 'exp2'\n",
    "df_alpha_exp1.head()\n",
    "\n",
    "df_alpha = pd.concat([df_alpha_exp1_avg, df_alpha_exp2_avg])\n",
    "df_alpha"
   ]
  },
  {
   "cell_type": "code",
   "execution_count": 30,
   "metadata": {},
   "outputs": [
    {
     "data": {
      "text/html": [
       "<div>\n",
       "<style scoped>\n",
       "    .dataframe tbody tr th:only-of-type {\n",
       "        vertical-align: middle;\n",
       "    }\n",
       "\n",
       "    .dataframe tbody tr th {\n",
       "        vertical-align: top;\n",
       "    }\n",
       "\n",
       "    .dataframe thead th {\n",
       "        text-align: right;\n",
       "    }\n",
       "</style>\n",
       "<table border=\"1\" class=\"dataframe\">\n",
       "  <thead>\n",
       "    <tr style=\"text-align: right;\">\n",
       "      <th></th>\n",
       "      <th></th>\n",
       "      <th>count</th>\n",
       "      <th>mean</th>\n",
       "      <th>std</th>\n",
       "      <th>min</th>\n",
       "      <th>25%</th>\n",
       "      <th>50%</th>\n",
       "      <th>75%</th>\n",
       "      <th>max</th>\n",
       "    </tr>\n",
       "    <tr>\n",
       "      <th>bas_ret_diff</th>\n",
       "      <th>experiment</th>\n",
       "      <th></th>\n",
       "      <th></th>\n",
       "      <th></th>\n",
       "      <th></th>\n",
       "      <th></th>\n",
       "      <th></th>\n",
       "      <th></th>\n",
       "      <th></th>\n",
       "    </tr>\n",
       "  </thead>\n",
       "  <tbody>\n",
       "    <tr>\n",
       "      <th rowspan=\"2\" valign=\"top\">bas</th>\n",
       "      <th>exp1</th>\n",
       "      <td>26.0</td>\n",
       "      <td>1.183218</td>\n",
       "      <td>0.406816</td>\n",
       "      <td>0.466425</td>\n",
       "      <td>0.855879</td>\n",
       "      <td>1.144695</td>\n",
       "      <td>1.470286</td>\n",
       "      <td>1.930948</td>\n",
       "    </tr>\n",
       "    <tr>\n",
       "      <th>exp2</th>\n",
       "      <td>26.0</td>\n",
       "      <td>1.038089</td>\n",
       "      <td>0.425381</td>\n",
       "      <td>0.393784</td>\n",
       "      <td>0.683966</td>\n",
       "      <td>1.006834</td>\n",
       "      <td>1.295910</td>\n",
       "      <td>1.837925</td>\n",
       "    </tr>\n",
       "    <tr>\n",
       "      <th rowspan=\"2\" valign=\"top\">diff</th>\n",
       "      <th>exp1</th>\n",
       "      <td>26.0</td>\n",
       "      <td>-0.092633</td>\n",
       "      <td>0.137746</td>\n",
       "      <td>-0.306970</td>\n",
       "      <td>-0.233043</td>\n",
       "      <td>-0.071701</td>\n",
       "      <td>0.014688</td>\n",
       "      <td>0.131352</td>\n",
       "    </tr>\n",
       "    <tr>\n",
       "      <th>exp2</th>\n",
       "      <td>26.0</td>\n",
       "      <td>-0.076447</td>\n",
       "      <td>0.129871</td>\n",
       "      <td>-0.343139</td>\n",
       "      <td>-0.165617</td>\n",
       "      <td>-0.081243</td>\n",
       "      <td>-0.003519</td>\n",
       "      <td>0.256973</td>\n",
       "    </tr>\n",
       "    <tr>\n",
       "      <th rowspan=\"2\" valign=\"top\">ret</th>\n",
       "      <th>exp1</th>\n",
       "      <td>26.0</td>\n",
       "      <td>1.090584</td>\n",
       "      <td>0.376972</td>\n",
       "      <td>0.497262</td>\n",
       "      <td>0.767749</td>\n",
       "      <td>1.115679</td>\n",
       "      <td>1.386772</td>\n",
       "      <td>1.813026</td>\n",
       "    </tr>\n",
       "    <tr>\n",
       "      <th>exp2</th>\n",
       "      <td>26.0</td>\n",
       "      <td>0.961641</td>\n",
       "      <td>0.439483</td>\n",
       "      <td>0.315484</td>\n",
       "      <td>0.664645</td>\n",
       "      <td>0.880346</td>\n",
       "      <td>1.287590</td>\n",
       "      <td>1.676469</td>\n",
       "    </tr>\n",
       "  </tbody>\n",
       "</table>\n",
       "</div>"
      ],
      "text/plain": [
       "                         count      mean       std       min       25%  \\\n",
       "bas_ret_diff experiment                                                  \n",
       "bas          exp1         26.0  1.183218  0.406816  0.466425  0.855879   \n",
       "             exp2         26.0  1.038089  0.425381  0.393784  0.683966   \n",
       "diff         exp1         26.0 -0.092633  0.137746 -0.306970 -0.233043   \n",
       "             exp2         26.0 -0.076447  0.129871 -0.343139 -0.165617   \n",
       "ret          exp1         26.0  1.090584  0.376972  0.497262  0.767749   \n",
       "             exp2         26.0  0.961641  0.439483  0.315484  0.664645   \n",
       "\n",
       "                              50%       75%       max  \n",
       "bas_ret_diff experiment                                \n",
       "bas          exp1        1.144695  1.470286  1.930948  \n",
       "             exp2        1.006834  1.295910  1.837925  \n",
       "diff         exp1       -0.071701  0.014688  0.131352  \n",
       "             exp2       -0.081243 -0.003519  0.256973  \n",
       "ret          exp1        1.115679  1.386772  1.813026  \n",
       "             exp2        0.880346  1.287590  1.676469  "
      ]
     },
     "execution_count": 30,
     "metadata": {},
     "output_type": "execute_result"
    }
   ],
   "source": [
    "df_alpha.groupby(['bas_ret_diff', 'experiment'])['power'].describe()"
   ]
  },
  {
   "cell_type": "markdown",
   "metadata": {},
   "source": [
    "### Retention period"
   ]
  },
  {
   "cell_type": "code",
   "execution_count": 31,
   "metadata": {},
   "outputs": [
    {
     "name": "stdout",
     "output_type": "stream",
     "text": [
      "          W      pval  normal\n",
      "0  0.960024  0.391998    True\n",
      "          W     pval  normal\n",
      "0  0.930044  0.07768    True\n",
      "              W     pval  equal_var\n",
      "levene  0.33047  0.56796       True\n"
     ]
    }
   ],
   "source": [
    "exp1 = df_alpha.query('bas_ret_diff==\"ret\" & experiment==\"exp1\"')['power'].values\n",
    "exp2 = df_alpha.query('bas_ret_diff==\"ret\" & experiment==\"exp2\"')['power'].values\n",
    "\n",
    "# Normality\n",
    "print(pg.normality(exp1))\n",
    "print(pg.normality(exp2))\n",
    "\n",
    "# Equal variance\n",
    "df_alpha_ret = df_alpha.query('bas_ret_diff==\"ret\"')\n",
    "print(pg.homoscedasticity(data=df_alpha_ret, dv='power', group='experiment', method='levene'))"
   ]
  },
  {
   "cell_type": "code",
   "execution_count": 32,
   "metadata": {},
   "outputs": [
    {
     "data": {
      "text/html": [
       "<div>\n",
       "<style scoped>\n",
       "    .dataframe tbody tr th:only-of-type {\n",
       "        vertical-align: middle;\n",
       "    }\n",
       "\n",
       "    .dataframe tbody tr th {\n",
       "        vertical-align: top;\n",
       "    }\n",
       "\n",
       "    .dataframe thead th {\n",
       "        text-align: right;\n",
       "    }\n",
       "</style>\n",
       "<table border=\"1\" class=\"dataframe\">\n",
       "  <thead>\n",
       "    <tr style=\"text-align: right;\">\n",
       "      <th></th>\n",
       "      <th>T</th>\n",
       "      <th>dof</th>\n",
       "      <th>alternative</th>\n",
       "      <th>p-val</th>\n",
       "      <th>CI95%</th>\n",
       "      <th>cohen-d</th>\n",
       "      <th>BF10</th>\n",
       "      <th>power</th>\n",
       "    </tr>\n",
       "  </thead>\n",
       "  <tbody>\n",
       "    <tr>\n",
       "      <th>T-test</th>\n",
       "      <td>1.13553</td>\n",
       "      <td>50</td>\n",
       "      <td>two-sided</td>\n",
       "      <td>0.261567</td>\n",
       "      <td>[-0.1, 0.36]</td>\n",
       "      <td>0.314939</td>\n",
       "      <td>0.473</td>\n",
       "      <td>0.199788</td>\n",
       "    </tr>\n",
       "  </tbody>\n",
       "</table>\n",
       "</div>"
      ],
      "text/plain": [
       "              T  dof alternative     p-val         CI95%   cohen-d   BF10  \\\n",
       "T-test  1.13553   50   two-sided  0.261567  [-0.1, 0.36]  0.314939  0.473   \n",
       "\n",
       "           power  \n",
       "T-test  0.199788  "
      ]
     },
     "execution_count": 32,
     "metadata": {},
     "output_type": "execute_result"
    }
   ],
   "source": [
    "pg.ttest(exp1, exp2)"
   ]
  },
  {
   "cell_type": "markdown",
   "metadata": {},
   "source": [
    "### Baseline period"
   ]
  },
  {
   "cell_type": "code",
   "execution_count": 33,
   "metadata": {},
   "outputs": [
    {
     "name": "stdout",
     "output_type": "stream",
     "text": [
      "          W      pval  normal\n",
      "0  0.951549  0.252034    True\n",
      "          W      pval  normal\n",
      "0  0.955847  0.316405    True\n",
      "               W      pval  equal_var\n",
      "levene  0.000181  0.989328       True\n"
     ]
    }
   ],
   "source": [
    "exp1 = df_alpha.query('bas_ret_diff==\"bas\" & experiment==\"exp1\"')['power'].values\n",
    "exp2 = df_alpha.query('bas_ret_diff==\"bas\" & experiment==\"exp2\"')['power'].values\n",
    "\n",
    "# Normality\n",
    "print(pg.normality(exp1))\n",
    "print(pg.normality(exp2))\n",
    "\n",
    "# Equal variance\n",
    "df_alpha_bas = df_alpha.query('bas_ret_diff==\"bas\"')\n",
    "print(pg.homoscedasticity(data=df_alpha_bas, dv='power', group='experiment', method='levene'))\n",
    "\n"
   ]
  },
  {
   "cell_type": "code",
   "execution_count": 34,
   "metadata": {},
   "outputs": [
    {
     "data": {
      "text/html": [
       "<div>\n",
       "<style scoped>\n",
       "    .dataframe tbody tr th:only-of-type {\n",
       "        vertical-align: middle;\n",
       "    }\n",
       "\n",
       "    .dataframe tbody tr th {\n",
       "        vertical-align: top;\n",
       "    }\n",
       "\n",
       "    .dataframe thead th {\n",
       "        text-align: right;\n",
       "    }\n",
       "</style>\n",
       "<table border=\"1\" class=\"dataframe\">\n",
       "  <thead>\n",
       "    <tr style=\"text-align: right;\">\n",
       "      <th></th>\n",
       "      <th>T</th>\n",
       "      <th>dof</th>\n",
       "      <th>alternative</th>\n",
       "      <th>p-val</th>\n",
       "      <th>CI95%</th>\n",
       "      <th>cohen-d</th>\n",
       "      <th>BF10</th>\n",
       "      <th>power</th>\n",
       "    </tr>\n",
       "  </thead>\n",
       "  <tbody>\n",
       "    <tr>\n",
       "      <th>T-test</th>\n",
       "      <td>1.25725</td>\n",
       "      <td>50</td>\n",
       "      <td>two-sided</td>\n",
       "      <td>0.214504</td>\n",
       "      <td>[-0.09, 0.38]</td>\n",
       "      <td>0.348698</td>\n",
       "      <td>0.532</td>\n",
       "      <td>0.234381</td>\n",
       "    </tr>\n",
       "  </tbody>\n",
       "</table>\n",
       "</div>"
      ],
      "text/plain": [
       "              T  dof alternative     p-val          CI95%   cohen-d   BF10  \\\n",
       "T-test  1.25725   50   two-sided  0.214504  [-0.09, 0.38]  0.348698  0.532   \n",
       "\n",
       "           power  \n",
       "T-test  0.234381  "
      ]
     },
     "execution_count": 34,
     "metadata": {},
     "output_type": "execute_result"
    }
   ],
   "source": [
    "pg.ttest(exp1, exp2)"
   ]
  },
  {
   "cell_type": "markdown",
   "metadata": {},
   "source": [
    "### Difference : retention - baseline"
   ]
  },
  {
   "cell_type": "code",
   "execution_count": 35,
   "metadata": {},
   "outputs": [
    {
     "name": "stdout",
     "output_type": "stream",
     "text": [
      "          W      pval  normal\n",
      "0  0.922172  0.050566    True\n",
      "         W     pval  normal\n",
      "0  0.98442  0.95123    True\n",
      "               W      pval  equal_var\n",
      "levene  0.905402  0.345914       True\n"
     ]
    }
   ],
   "source": [
    "exp1 = df_alpha.query('bas_ret_diff==\"diff\" & experiment==\"exp1\"')['power'].values\n",
    "exp2 = df_alpha.query('bas_ret_diff==\"diff\" & experiment==\"exp2\"')['power'].values\n",
    "\n",
    "# Normality\n",
    "print(pg.normality(exp1))\n",
    "print(pg.normality(exp2))\n",
    "\n",
    "# Equal variance\n",
    "df_alpha_diff = df_alpha.query('bas_ret_diff==\"diff\"')\n",
    "print(pg.homoscedasticity(data=df_alpha_diff, dv='power', group='experiment', method='levene'))\n"
   ]
  },
  {
   "cell_type": "code",
   "execution_count": 36,
   "metadata": {},
   "outputs": [
    {
     "data": {
      "text/html": [
       "<div>\n",
       "<style scoped>\n",
       "    .dataframe tbody tr th:only-of-type {\n",
       "        vertical-align: middle;\n",
       "    }\n",
       "\n",
       "    .dataframe tbody tr th {\n",
       "        vertical-align: top;\n",
       "    }\n",
       "\n",
       "    .dataframe thead th {\n",
       "        text-align: right;\n",
       "    }\n",
       "</style>\n",
       "<table border=\"1\" class=\"dataframe\">\n",
       "  <thead>\n",
       "    <tr style=\"text-align: right;\">\n",
       "      <th></th>\n",
       "      <th>T</th>\n",
       "      <th>dof</th>\n",
       "      <th>alternative</th>\n",
       "      <th>p-val</th>\n",
       "      <th>CI95%</th>\n",
       "      <th>cohen-d</th>\n",
       "      <th>BF10</th>\n",
       "      <th>power</th>\n",
       "    </tr>\n",
       "  </thead>\n",
       "  <tbody>\n",
       "    <tr>\n",
       "      <th>T-test</th>\n",
       "      <td>-0.435949</td>\n",
       "      <td>50</td>\n",
       "      <td>two-sided</td>\n",
       "      <td>0.66475</td>\n",
       "      <td>[-0.09, 0.06]</td>\n",
       "      <td>0.12091</td>\n",
       "      <td>0.301</td>\n",
       "      <td>0.0712</td>\n",
       "    </tr>\n",
       "  </tbody>\n",
       "</table>\n",
       "</div>"
      ],
      "text/plain": [
       "               T  dof alternative    p-val          CI95%  cohen-d   BF10  \\\n",
       "T-test -0.435949   50   two-sided  0.66475  [-0.09, 0.06]  0.12091  0.301   \n",
       "\n",
       "         power  \n",
       "T-test  0.0712  "
      ]
     },
     "execution_count": 36,
     "metadata": {},
     "output_type": "execute_result"
    }
   ],
   "source": [
    "pg.ttest(exp1, exp2)"
   ]
  },
  {
   "cell_type": "markdown",
   "metadata": {},
   "source": [
    "## Figures -- relative theta power difference between experiment 1 and 2"
   ]
  },
  {
   "cell_type": "code",
   "execution_count": 37,
   "metadata": {},
   "outputs": [
    {
     "data": {
      "image/png": "[encoded data removed]",
      "text/plain": [
       "<Figure size 432x288 with 1 Axes>"
      ]
     },
     "metadata": {
      "needs_background": "light"
     },
     "output_type": "display_data"
    },
    {
     "data": {
      "image/png": "[encoded data removed]",
      "text/plain": [
       "<Figure size 432x288 with 1 Axes>"
      ]
     },
     "metadata": {
      "needs_background": "light"
     },
     "output_type": "display_data"
    },
    {
     "data": {
      "image/png": "[encoded data removed]",
      "text/plain": [
       "<Figure size 432x288 with 1 Axes>"
      ]
     },
     "metadata": {
      "needs_background": "light"
     },
     "output_type": "display_data"
    }
   ],
   "source": [
    "plotting_function(parameter='power', data=df_alpha_bas, period='baseline', freq='ALPHA', save_fig=False)\n",
    "plotting_function(parameter='power', data=df_alpha_ret, period='retention', freq='ALPHA', save_fig=False)\n",
    "plotting_function(parameter='power', data=df_alpha_diff, period='difference', freq='ALPHA', zero=True, save_fig=False)"
   ]
  },
  {
   "cell_type": "markdown",
   "metadata": {},
   "source": [
    "## Exponent differences between experiment 1 and 2? "
   ]
  },
  {
   "cell_type": "code",
   "execution_count": 38,
   "metadata": {},
   "outputs": [
    {
     "data": {
      "text/html": [
       "<div>\n",
       "<style scoped>\n",
       "    .dataframe tbody tr th:only-of-type {\n",
       "        vertical-align: middle;\n",
       "    }\n",
       "\n",
       "    .dataframe tbody tr th {\n",
       "        vertical-align: top;\n",
       "    }\n",
       "\n",
       "    .dataframe thead th {\n",
       "        text-align: right;\n",
       "    }\n",
       "</style>\n",
       "<table border=\"1\" class=\"dataframe\">\n",
       "  <thead>\n",
       "    <tr style=\"text-align: right;\">\n",
       "      <th></th>\n",
       "      <th></th>\n",
       "      <th>count</th>\n",
       "      <th>mean</th>\n",
       "      <th>std</th>\n",
       "      <th>min</th>\n",
       "      <th>25%</th>\n",
       "      <th>50%</th>\n",
       "      <th>75%</th>\n",
       "      <th>max</th>\n",
       "    </tr>\n",
       "    <tr>\n",
       "      <th>bas_ret_diff</th>\n",
       "      <th>experiment</th>\n",
       "      <th></th>\n",
       "      <th></th>\n",
       "      <th></th>\n",
       "      <th></th>\n",
       "      <th></th>\n",
       "      <th></th>\n",
       "      <th></th>\n",
       "      <th></th>\n",
       "    </tr>\n",
       "  </thead>\n",
       "  <tbody>\n",
       "    <tr>\n",
       "      <th rowspan=\"2\" valign=\"top\">bas</th>\n",
       "      <th>exp1</th>\n",
       "      <td>26.0</td>\n",
       "      <td>1.211911</td>\n",
       "      <td>0.367919</td>\n",
       "      <td>0.420701</td>\n",
       "      <td>0.983584</td>\n",
       "      <td>1.228709</td>\n",
       "      <td>1.494608</td>\n",
       "      <td>1.829894</td>\n",
       "    </tr>\n",
       "    <tr>\n",
       "      <th>exp2</th>\n",
       "      <td>26.0</td>\n",
       "      <td>1.166400</td>\n",
       "      <td>0.288570</td>\n",
       "      <td>0.558714</td>\n",
       "      <td>1.001543</td>\n",
       "      <td>1.192158</td>\n",
       "      <td>1.386265</td>\n",
       "      <td>1.649347</td>\n",
       "    </tr>\n",
       "    <tr>\n",
       "      <th rowspan=\"2\" valign=\"top\">diff</th>\n",
       "      <th>exp1</th>\n",
       "      <td>26.0</td>\n",
       "      <td>-0.083097</td>\n",
       "      <td>0.078092</td>\n",
       "      <td>-0.261456</td>\n",
       "      <td>-0.123645</td>\n",
       "      <td>-0.063835</td>\n",
       "      <td>-0.028760</td>\n",
       "      <td>0.020750</td>\n",
       "    </tr>\n",
       "    <tr>\n",
       "      <th>exp2</th>\n",
       "      <td>26.0</td>\n",
       "      <td>-0.068854</td>\n",
       "      <td>0.070408</td>\n",
       "      <td>-0.262104</td>\n",
       "      <td>-0.104999</td>\n",
       "      <td>-0.045779</td>\n",
       "      <td>-0.018637</td>\n",
       "      <td>0.018365</td>\n",
       "    </tr>\n",
       "    <tr>\n",
       "      <th rowspan=\"2\" valign=\"top\">ret</th>\n",
       "      <th>exp1</th>\n",
       "      <td>26.0</td>\n",
       "      <td>1.128814</td>\n",
       "      <td>0.380330</td>\n",
       "      <td>0.367475</td>\n",
       "      <td>0.874275</td>\n",
       "      <td>1.185974</td>\n",
       "      <td>1.439807</td>\n",
       "      <td>1.801522</td>\n",
       "    </tr>\n",
       "    <tr>\n",
       "      <th>exp2</th>\n",
       "      <td>26.0</td>\n",
       "      <td>1.097546</td>\n",
       "      <td>0.289167</td>\n",
       "      <td>0.453013</td>\n",
       "      <td>0.907097</td>\n",
       "      <td>1.119741</td>\n",
       "      <td>1.279582</td>\n",
       "      <td>1.592907</td>\n",
       "    </tr>\n",
       "  </tbody>\n",
       "</table>\n",
       "</div>"
      ],
      "text/plain": [
       "                         count      mean       std       min       25%  \\\n",
       "bas_ret_diff experiment                                                  \n",
       "bas          exp1         26.0  1.211911  0.367919  0.420701  0.983584   \n",
       "             exp2         26.0  1.166400  0.288570  0.558714  1.001543   \n",
       "diff         exp1         26.0 -0.083097  0.078092 -0.261456 -0.123645   \n",
       "             exp2         26.0 -0.068854  0.070408 -0.262104 -0.104999   \n",
       "ret          exp1         26.0  1.128814  0.380330  0.367475  0.874275   \n",
       "             exp2         26.0  1.097546  0.289167  0.453013  0.907097   \n",
       "\n",
       "                              50%       75%       max  \n",
       "bas_ret_diff experiment                                \n",
       "bas          exp1        1.228709  1.494608  1.829894  \n",
       "             exp2        1.192158  1.386265  1.649347  \n",
       "diff         exp1       -0.063835 -0.028760  0.020750  \n",
       "             exp2       -0.045779 -0.018637  0.018365  \n",
       "ret          exp1        1.185974  1.439807  1.801522  \n",
       "             exp2        1.119741  1.279582  1.592907  "
      ]
     },
     "execution_count": 38,
     "metadata": {},
     "output_type": "execute_result"
    }
   ],
   "source": [
    "df_alpha.groupby(['bas_ret_diff', 'experiment'])['exponent'].describe()"
   ]
  },
  {
   "cell_type": "markdown",
   "metadata": {},
   "source": [
    "### Retention period"
   ]
  },
  {
   "cell_type": "code",
   "execution_count": 39,
   "metadata": {},
   "outputs": [
    {
     "name": "stdout",
     "output_type": "stream",
     "text": [
      "          W      pval  normal\n",
      "0  0.973448  0.713781    True\n",
      "          W      pval  normal\n",
      "0  0.982046  0.914087    True\n",
      "               W      pval  equal_var\n",
      "levene  0.001924  0.965361       True\n"
     ]
    }
   ],
   "source": [
    "exp1 = df_alpha.query('bas_ret_diff==\"ret\" & experiment==\"exp1\"')['exponent'].values\n",
    "exp2 = df_alpha.query('bas_ret_diff==\"ret\" & experiment==\"exp2\"')['exponent'].values\n",
    "\n",
    "# Normality\n",
    "print(pg.normality(exp1))\n",
    "print(pg.normality(exp2))\n",
    "\n",
    "# Equal variance\n",
    "df_alpha_ret = df_theta.query('bas_ret_diff==\"ret\"')\n",
    "print(pg.homoscedasticity(data=df_alpha_ret, dv='exponent', group='experiment', method='levene'))"
   ]
  },
  {
   "cell_type": "code",
   "execution_count": 40,
   "metadata": {},
   "outputs": [
    {
     "data": {
      "text/html": [
       "<div>\n",
       "<style scoped>\n",
       "    .dataframe tbody tr th:only-of-type {\n",
       "        vertical-align: middle;\n",
       "    }\n",
       "\n",
       "    .dataframe tbody tr th {\n",
       "        vertical-align: top;\n",
       "    }\n",
       "\n",
       "    .dataframe thead th {\n",
       "        text-align: right;\n",
       "    }\n",
       "</style>\n",
       "<table border=\"1\" class=\"dataframe\">\n",
       "  <thead>\n",
       "    <tr style=\"text-align: right;\">\n",
       "      <th></th>\n",
       "      <th>T</th>\n",
       "      <th>dof</th>\n",
       "      <th>alternative</th>\n",
       "      <th>p-val</th>\n",
       "      <th>CI95%</th>\n",
       "      <th>cohen-d</th>\n",
       "      <th>BF10</th>\n",
       "      <th>power</th>\n",
       "    </tr>\n",
       "  </thead>\n",
       "  <tbody>\n",
       "    <tr>\n",
       "      <th>T-test</th>\n",
       "      <td>0.333704</td>\n",
       "      <td>50</td>\n",
       "      <td>two-sided</td>\n",
       "      <td>0.739999</td>\n",
       "      <td>[-0.16, 0.22]</td>\n",
       "      <td>0.092553</td>\n",
       "      <td>0.291</td>\n",
       "      <td>0.062363</td>\n",
       "    </tr>\n",
       "  </tbody>\n",
       "</table>\n",
       "</div>"
      ],
      "text/plain": [
       "               T  dof alternative     p-val          CI95%   cohen-d   BF10  \\\n",
       "T-test  0.333704   50   two-sided  0.739999  [-0.16, 0.22]  0.092553  0.291   \n",
       "\n",
       "           power  \n",
       "T-test  0.062363  "
      ]
     },
     "execution_count": 40,
     "metadata": {},
     "output_type": "execute_result"
    }
   ],
   "source": [
    "pg.ttest(exp1, exp2)"
   ]
  },
  {
   "cell_type": "markdown",
   "metadata": {},
   "source": [
    "### Baseline period"
   ]
  },
  {
   "cell_type": "code",
   "execution_count": 41,
   "metadata": {},
   "outputs": [
    {
     "name": "stdout",
     "output_type": "stream",
     "text": [
      "          W     pval  normal\n",
      "0  0.970702  0.64159    True\n",
      "          W      pval  normal\n",
      "0  0.973917  0.726063    True\n",
      "               W      pval  equal_var\n",
      "levene  0.827901  0.367246       True\n"
     ]
    }
   ],
   "source": [
    "exp1 = df_alpha.query('bas_ret_diff==\"bas\" & experiment==\"exp1\"')['exponent'].values\n",
    "exp2 = df_alpha.query('bas_ret_diff==\"bas\" & experiment==\"exp2\"')['exponent'].values\n",
    "\n",
    "# Normality\n",
    "print(pg.normality(exp1))\n",
    "print(pg.normality(exp2))\n",
    "\n",
    "# Equal variance\n",
    "df_alpha_bas = df_alpha.query('bas_ret_diff==\"bas\"')\n",
    "print(pg.homoscedasticity(data=df_alpha_bas, dv='exponent', group='experiment', method='levene'))\n",
    "\n"
   ]
  },
  {
   "cell_type": "code",
   "execution_count": 42,
   "metadata": {},
   "outputs": [
    {
     "data": {
      "text/html": [
       "<div>\n",
       "<style scoped>\n",
       "    .dataframe tbody tr th:only-of-type {\n",
       "        vertical-align: middle;\n",
       "    }\n",
       "\n",
       "    .dataframe tbody tr th {\n",
       "        vertical-align: top;\n",
       "    }\n",
       "\n",
       "    .dataframe thead th {\n",
       "        text-align: right;\n",
       "    }\n",
       "</style>\n",
       "<table border=\"1\" class=\"dataframe\">\n",
       "  <thead>\n",
       "    <tr style=\"text-align: right;\">\n",
       "      <th></th>\n",
       "      <th>T</th>\n",
       "      <th>dof</th>\n",
       "      <th>alternative</th>\n",
       "      <th>p-val</th>\n",
       "      <th>CI95%</th>\n",
       "      <th>cohen-d</th>\n",
       "      <th>BF10</th>\n",
       "      <th>power</th>\n",
       "    </tr>\n",
       "  </thead>\n",
       "  <tbody>\n",
       "    <tr>\n",
       "      <th>T-test</th>\n",
       "      <td>0.496291</td>\n",
       "      <td>50</td>\n",
       "      <td>two-sided</td>\n",
       "      <td>0.621864</td>\n",
       "      <td>[-0.14, 0.23]</td>\n",
       "      <td>0.137646</td>\n",
       "      <td>0.308</td>\n",
       "      <td>0.077563</td>\n",
       "    </tr>\n",
       "  </tbody>\n",
       "</table>\n",
       "</div>"
      ],
      "text/plain": [
       "               T  dof alternative     p-val          CI95%   cohen-d   BF10  \\\n",
       "T-test  0.496291   50   two-sided  0.621864  [-0.14, 0.23]  0.137646  0.308   \n",
       "\n",
       "           power  \n",
       "T-test  0.077563  "
      ]
     },
     "execution_count": 42,
     "metadata": {},
     "output_type": "execute_result"
    }
   ],
   "source": [
    "pg.ttest(exp1, exp2)"
   ]
  },
  {
   "cell_type": "markdown",
   "metadata": {},
   "source": [
    "### Difference : retention - baseline"
   ]
  },
  {
   "cell_type": "code",
   "execution_count": 43,
   "metadata": {},
   "outputs": [
    {
     "name": "stdout",
     "output_type": "stream",
     "text": [
      "          W      pval  normal\n",
      "0  0.928262  0.070455    True\n",
      "          W      pval  normal\n",
      "0  0.898627  0.014591   False\n",
      "               W      pval  equal_var\n",
      "levene  0.288642  0.593475       True\n"
     ]
    }
   ],
   "source": [
    "exp1 = df_alpha.query('bas_ret_diff==\"diff\" & experiment==\"exp1\"')['exponent'].values\n",
    "exp2 = df_alpha.query('bas_ret_diff==\"diff\" & experiment==\"exp2\"')['exponent'].values\n",
    "\n",
    "# Normality\n",
    "print(pg.normality(exp1))\n",
    "print(pg.normality(exp2))\n",
    "\n",
    "# Equal variance\n",
    "df_alpha_diff = df_alpha.query('bas_ret_diff==\"diff\"')\n",
    "print(pg.homoscedasticity(data=df_alpha_diff, dv='exponent', group='experiment', method='levene'))\n"
   ]
  },
  {
   "cell_type": "code",
   "execution_count": 44,
   "metadata": {},
   "outputs": [
    {
     "data": {
      "text/html": [
       "<div>\n",
       "<style scoped>\n",
       "    .dataframe tbody tr th:only-of-type {\n",
       "        vertical-align: middle;\n",
       "    }\n",
       "\n",
       "    .dataframe tbody tr th {\n",
       "        vertical-align: top;\n",
       "    }\n",
       "\n",
       "    .dataframe thead th {\n",
       "        text-align: right;\n",
       "    }\n",
       "</style>\n",
       "<table border=\"1\" class=\"dataframe\">\n",
       "  <thead>\n",
       "    <tr style=\"text-align: right;\">\n",
       "      <th></th>\n",
       "      <th>T</th>\n",
       "      <th>dof</th>\n",
       "      <th>alternative</th>\n",
       "      <th>p-val</th>\n",
       "      <th>CI95%</th>\n",
       "      <th>cohen-d</th>\n",
       "      <th>BF10</th>\n",
       "      <th>power</th>\n",
       "    </tr>\n",
       "  </thead>\n",
       "  <tbody>\n",
       "    <tr>\n",
       "      <th>T-test</th>\n",
       "      <td>-0.690697</td>\n",
       "      <td>50</td>\n",
       "      <td>two-sided</td>\n",
       "      <td>0.49295</td>\n",
       "      <td>[-0.06, 0.03]</td>\n",
       "      <td>0.191565</td>\n",
       "      <td>0.339</td>\n",
       "      <td>0.104018</td>\n",
       "    </tr>\n",
       "  </tbody>\n",
       "</table>\n",
       "</div>"
      ],
      "text/plain": [
       "               T  dof alternative    p-val          CI95%   cohen-d   BF10  \\\n",
       "T-test -0.690697   50   two-sided  0.49295  [-0.06, 0.03]  0.191565  0.339   \n",
       "\n",
       "           power  \n",
       "T-test  0.104018  "
      ]
     },
     "execution_count": 44,
     "metadata": {},
     "output_type": "execute_result"
    }
   ],
   "source": [
    "pg.ttest(exp1, exp2)"
   ]
  },
  {
   "cell_type": "markdown",
   "metadata": {},
   "source": [
    "### Figures for exponent comparison"
   ]
  },
  {
   "cell_type": "code",
   "execution_count": 45,
   "metadata": {},
   "outputs": [
    {
     "data": {
      "image/png": "[encoded data removed]",
      "text/plain": [
       "<Figure size 432x288 with 1 Axes>"
      ]
     },
     "metadata": {
      "needs_background": "light"
     },
     "output_type": "display_data"
    },
    {
     "data": {
      "image/png": "[encoded data removed]",
      "text/plain": [
       "<Figure size 432x288 with 1 Axes>"
      ]
     },
     "metadata": {
      "needs_background": "light"
     },
     "output_type": "display_data"
    },
    {
     "data": {
      "image/png": "[encoded data removed]",
      "text/plain": [
       "<Figure size 432x288 with 1 Axes>"
      ]
     },
     "metadata": {
      "needs_background": "light"
     },
     "output_type": "display_data"
    }
   ],
   "source": [
    "plotting_function(parameter='exponent', data=df_alpha_bas, period='baseline', freq='ALPHA', save_fig=False)\n",
    "plotting_function(parameter='exponent', data=df_alpha_ret, period='retention', freq='ALPHA', save_fig=False)\n",
    "plotting_function(parameter='exponent', data=df_alpha_diff, period='difference', freq='ALPHA', zero=True, save_fig=False)"
   ]
  },
  {
   "cell_type": "markdown",
   "metadata": {},
   "source": [
    "# Regressions"
   ]
  },
  {
   "cell_type": "code",
   "execution_count": 46,
   "metadata": {},
   "outputs": [
    {
     "ename": "NameError",
     "evalue": "name 'ols' is not defined",
     "output_type": "error",
     "traceback": [
      "\u001b[0;31m---------------------------------------------------------------------------\u001b[0m",
      "\u001b[0;31mNameError\u001b[0m                                 Traceback (most recent call last)",
      "\u001b[0;32m<ipython-input-46-77bd76f9fae1>\u001b[0m in \u001b[0;36m<module>\u001b[0;34m\u001b[0m\n\u001b[1;32m      3\u001b[0m \u001b[0;31m# I realize I have no K_scores in these dataframes\u001b[0m\u001b[0;34m\u001b[0m\u001b[0;34m\u001b[0m\u001b[0;34m\u001b[0m\u001b[0m\n\u001b[1;32m      4\u001b[0m \u001b[0;34m\u001b[0m\u001b[0m\n\u001b[0;32m----> 5\u001b[0;31m \u001b[0mmodel\u001b[0m \u001b[0;34m=\u001b[0m \u001b[0mols\u001b[0m\u001b[0;34m(\u001b[0m\u001b[0;34m'K_avg ~ exponent'\u001b[0m\u001b[0;34m,\u001b[0m \u001b[0mdf_z_2\u001b[0m\u001b[0;34m)\u001b[0m\u001b[0;34m.\u001b[0m\u001b[0mfit\u001b[0m\u001b[0;34m(\u001b[0m\u001b[0;34m)\u001b[0m\u001b[0;34m\u001b[0m\u001b[0;34m\u001b[0m\u001b[0m\n\u001b[0m\u001b[1;32m      6\u001b[0m \u001b[0mprint\u001b[0m\u001b[0;34m(\u001b[0m\u001b[0mmodel\u001b[0m\u001b[0;34m.\u001b[0m\u001b[0msummary\u001b[0m\u001b[0;34m(\u001b[0m\u001b[0;34m)\u001b[0m\u001b[0;34m)\u001b[0m\u001b[0;34m\u001b[0m\u001b[0;34m\u001b[0m\u001b[0m\n",
      "\u001b[0;31mNameError\u001b[0m: name 'ols' is not defined"
     ]
    }
   ],
   "source": [
    "# multiple linear regression\n",
    "\n",
    "# I realize I have no K_scores in these dataframes\n",
    "\n",
    "model = ols('K_avg ~ exponent', df_z_2).fit()\n",
    "print(model.summary())"
   ]
  },
  {
   "cell_type": "code",
   "execution_count": null,
   "metadata": {},
   "outputs": [],
   "source": []
  },
  {
   "cell_type": "code",
   "execution_count": null,
   "metadata": {},
   "outputs": [],
   "source": []
  }
 ],
 "metadata": {
  "kernelspec": {
   "display_name": "py3",
   "language": "python",
   "name": "python3"
  },
  "language_info": {
   "codemirror_mode": {
    "name": "ipython",
    "version": 3
   },
   "file_extension": ".py",
   "mimetype": "text/x-python",
   "name": "python",
   "nbconvert_exporter": "python",
   "pygments_lexer": "ipython3",
   "version": "3.7.10"
  }
 },
 "nbformat": 4,
 "nbformat_minor": 2
}
